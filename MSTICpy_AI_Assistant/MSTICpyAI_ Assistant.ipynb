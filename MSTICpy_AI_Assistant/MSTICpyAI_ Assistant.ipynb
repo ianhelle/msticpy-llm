{
 "cells": [
  {
   "cell_type": "markdown",
   "id": "c05c3eae-14fc-4948-b2f7-d70be6738d5b",
   "metadata": {},
   "source": [
    "# MSTICpy AI Assistant: Your Threat Intelligence Ally"
   ]
  },
  {
   "cell_type": "code",
   "execution_count": 1,
   "id": "74cf3c3c-7c9f-4d2c-ba8d-201bf7a7582b",
   "metadata": {},
   "outputs": [
    {
     "data": {
      "application/vnd.jupyter.widget-view+json": {
       "model_id": "063e2ed700fc4177ac99f225a04795d9",
       "version_major": 2,
       "version_minor": 0
      },
      "text/plain": [
       "Label(value='Loading. Please wait.')"
      ]
     },
     "metadata": {},
     "output_type": "display_data"
    },
    {
     "data": {
      "application/vnd.jupyter.widget-view+json": {
       "model_id": "d9f00c56140a4e7390a88ad42dafa6b9",
       "version_major": 2,
       "version_minor": 0
      },
      "text/plain": [
       "VBox(children=(Tab(children=(VBox(children=(Label(value='MSTICPy Settings'), HBox(children=(VBox(children=(VBo…"
      ]
     },
     "metadata": {},
     "output_type": "display_data"
    }
   ],
   "source": [
    "# Use this to configure your api key msticpyconfig.yaml\n",
    "\n",
    "from msticpy.config import MpConfigEdit\n",
    "mpedit = MpConfigEdit( \"msticpyconfig.yaml\")\n",
    "display(mpedit)"
   ]
  },
  {
   "cell_type": "code",
   "execution_count": null,
   "id": "373c0ab1-26eb-4339-928f-48d531fe2ef3",
   "metadata": {},
   "outputs": [],
   "source": [
    "# Importing the LLM features\n",
    "import msticpy\n",
    "from msticpy.context.contextproviders.llm import AgentRunner\n",
    "\n",
    "# Suppress FutureWarning messages\n",
    "import warnings\n",
    "warnings.simplefilter(action='ignore', category=FutureWarning)"
   ]
  },
  {
   "cell_type": "code",
   "execution_count": null,
   "id": "7bbdd1b9-de62-4659-8dfc-7a57a8341267",
   "metadata": {},
   "outputs": [],
   "source": []
  }
 ],
 "metadata": {
  "kernelspec": {
   "display_name": "Python 3 (ipykernel)",
   "language": "python",
   "name": "python3"
  },
  "language_info": {
   "codemirror_mode": {
    "name": "ipython",
    "version": 3
   },
   "file_extension": ".py",
   "mimetype": "text/x-python",
   "name": "python",
   "nbconvert_exporter": "python",
   "pygments_lexer": "ipython3",
   "version": "3.9.13"
  }
 },
 "nbformat": 4,
 "nbformat_minor": 5
}
