{
 "cells": [
  {
   "cell_type": "code",
   "execution_count": 1,
   "metadata": {},
   "outputs": [
    {
     "name": "stderr",
     "output_type": "stream",
     "text": [
      "E:\\src\\msticpy\\msticpy\\transform\\IoCExtract.py:728: UserWarning: registration of accessor <class 'msticpy.transform.IoCExtract.IoCExtractAccessor'> under name 'mp_ioc' for type <class 'pandas.core.frame.DataFrame'> is overriding a preexisting attribute with the same name.\n",
      "  @pd.api.extensions.register_dataframe_accessor(\"mp_ioc\")\n"
     ]
    },
    {
     "data": {
      "text/html": [
       "Attempting connection to Key Vault using cli credentials..."
      ],
      "text/plain": [
       "<IPython.core.display.HTML object>"
      ]
     },
     "metadata": {},
     "output_type": "display_data"
    },
    {
     "data": {
      "text/html": [
       "done<br>"
      ],
      "text/plain": [
       "<IPython.core.display.HTML object>"
      ]
     },
     "metadata": {},
     "output_type": "display_data"
    },
    {
     "name": "stdout",
     "output_type": "stream",
     "text": [
      "connected\n"
     ]
    }
   ],
   "source": [
    "import msticpy as mp\n",
    "mp.init_notebook()\n",
    "qry_prov = mp.QueryProvider(\"MSSentinel_New\")\n",
    "qry_prov.connect()"
   ]
  },
  {
   "cell_type": "code",
   "execution_count": 2,
   "metadata": {},
   "outputs": [],
   "source": [
    "import sys\n",
    "sys.path.append(r'../src')"
   ]
  },
  {
   "cell_type": "code",
   "execution_count": 3,
   "metadata": {},
   "outputs": [],
   "source": [
    "%load_ext autoreload\n",
    "%autoreload 2"
   ]
  },
  {
   "cell_type": "code",
   "execution_count": 4,
   "metadata": {},
   "outputs": [],
   "source": [
    "from find_mp_function import MPFuncSearch\n",
    "mpfs = MPFuncSearch(qry_prov)"
   ]
  },
  {
   "cell_type": "code",
   "execution_count": 5,
   "metadata": {},
   "outputs": [
    {
     "data": {
      "text/markdown": [
       "\n",
       "### Function name: `Account.MSSentinel.o365_activity`\n",
       "\n",
       "Function type: **pivot**\n",
       "\n",
       "Description: **Lists Office/O365 Activity for Account**\n",
       "\n",
       "Example:\n",
       "```python3\n",
       "Account.MSSentinel.o365_activity(\"<value>\"|<list of values>)\n",
       "```\n",
       "\n",
       "#### Other possible matches:\n",
       "- Office365.list_activity_for_account\n",
       "- User.MSSentinel.o365_activity\n",
       "- Ip.MSSentinel.o365_activity\n",
       "- AzureResource.MSSentinel.o365_activity\n",
       "- M365D.user_logons\n",
       "\n",
       "\n"
      ],
      "text/plain": [
       "<IPython.core.display.Markdown object>"
      ]
     },
     "execution_count": 5,
     "metadata": {},
     "output_type": "execute_result"
    }
   ],
   "source": [
    "mpfs.find_mp_function(\"Find O365 activity for a user\")"
   ]
  },
  {
   "cell_type": "code",
   "execution_count": 6,
   "metadata": {},
   "outputs": [
    {
     "name": "stdout",
     "output_type": "stream",
     "text": [
      "Exception reporting mode: Verbose\n"
     ]
    },
    {
     "data": {
      "text/markdown": [
       "\n",
       "### Function name: `df.mp_process_tree.plot`\n",
       "\n",
       "Function type: **pandas_ext**\n",
       "\n",
       "Description: **Build and plot a process tree.**\n",
       "\n",
       "Example:\n",
       "```python3\n",
       "df.mp_process_tree.plot(<args...)\n",
       "```\n",
       "\n",
       "#### Other possible matches:\n",
       "- df.mp_plot.process_tree\n",
       "- HostLogonSession.MSSentinel.wevt_parent_process\n",
       "- MultiDataSource.plot_timeseries_datawithbaseline\n",
       "- WindowsSecurity.get_process_tree\n",
       "- Machine.MSSentinel.wevt_get_process_tree\n",
       "\n",
       "\n",
       "### Function docstring:\n",
       "\n",
       "```\n",
       "\n",
       "        Build and plot a process tree.\n",
       "\n",
       "        Parameters\n",
       "        ----------\n",
       "        schema : ProcSchema, optional\n",
       "            The data schema to use for the data set, by default None\n",
       "            (if None the schema is inferred)\n",
       "        output_var : str, optional\n",
       "            Output variable for selected items in the tree,\n",
       "            by default None\n",
       "        legend_col : str, optional\n",
       "            The column used to color the tree items, by default None\n",
       "        show_table: bool\n",
       "            Set to True to show a data table, by default False.\n",
       "\n",
       "        Other Parameters\n",
       "        ----------------\n",
       "        height : int, optional\n",
       "            The height of the plot figure\n",
       "            (the default is 700)\n",
       "        width : int, optional\n",
       "            The width of the plot figure (the default is 900)\n",
       "        title : str, optional\n",
       "            Title to display (the default is None)\n",
       "        hide_legend : bool, optional\n",
       "            Hide the legend box, even if legend_col is specified.\n",
       "        pid_fmt : str, optional\n",
       "            Display Process ID as 'dec' (decimal), 'hex' (hexadecimal),\n",
       "            or 'guid' (string), default is 'hex'.\n",
       "\n",
       "        Returns\n",
       "        -------\n",
       "        Tuple[figure, LayoutDOM]:\n",
       "            figure - The main bokeh.plotting.figure\n",
       "            Layout - Bokeh layout structure.\n",
       "\n",
       "        \n",
       "```\n",
       "\n",
       "\n"
      ],
      "text/plain": [
       "<IPython.core.display.Markdown object>"
      ]
     },
     "execution_count": 6,
     "metadata": {},
     "output_type": "execute_result"
    }
   ],
   "source": [
    "%xmode verbose\n",
    "mpfs.find_mp_function_full(\"I want to plot a process tree?\", markdown=True)"
   ]
  },
  {
   "cell_type": "code",
   "execution_count": 35,
   "metadata": {},
   "outputs": [
    {
     "data": {
      "text/markdown": [
       "\n",
       "### Function name: `MultiDataSource.get_timeseries_data`\n",
       "\n",
       "Function type: **query**\n",
       "\n",
       "Description: **Generic query to return TimeSeriesData for use with native KQL time series functions**\n",
       "\n",
       "Example:\n",
       "```python3\n",
       "qry_prov.MultiDataSource.get_timeseries_data(start=<start>, end=<end>, <parameters...>)\n",
       "```\n",
       "\n",
       "#### Other possible matches:\n",
       "- MultiDataSource.plot_timeseries_datawithbaseline\n",
       "- MultiDataSource.get_timeseries_decompose\n",
       "- MultiDataSource.plot_timeseries_scoreanomolies\n",
       "- df.mp_plot.timeline\n",
       "- df.mp_timeline.plot_duration\n",
       "\n",
       "\n"
      ],
      "text/plain": [
       "<IPython.core.display.Markdown object>"
      ]
     },
     "execution_count": 35,
     "metadata": {},
     "output_type": "execute_result"
    }
   ],
   "source": [
    "mpfs.find_mp_function(\"I want to do time series analysis.\")"
   ]
  },
  {
   "cell_type": "code",
   "execution_count": 36,
   "metadata": {},
   "outputs": [
    {
     "data": {
      "text/markdown": [
       "\n",
       "### Function name: `IpAddress.ti.lookup_ip`\n",
       "\n",
       "Function type: **pivot**\n",
       "\n",
       "Description: **Lookup Threat Intelligence reports for a collection of IoCs in active providers.**\n",
       "\n",
       "Example:\n",
       "```python3\n",
       "IpAddress.ti.lookup_ip(\"<value>\"|<list of values>)\n",
       "```\n",
       "\n",
       "#### Other possible matches:\n",
       "- MDEHunting.malware_recycle\n",
       "- ThreatIntelligence.list_indicators\n",
       "- Host.RiskIQ.articles\n",
       "- Dns.VT.historical_whois\n",
       "- M365DHunting.cve_2018_1111\n",
       "\n",
       "\n"
      ],
      "text/plain": [
       "<IPython.core.display.Markdown object>"
      ]
     },
     "execution_count": 36,
     "metadata": {},
     "output_type": "execute_result"
    }
   ],
   "source": [
    "mpfs.find_mp_function(\"I want to lookup Threat intel.\")"
   ]
  },
  {
   "cell_type": "code",
   "execution_count": 37,
   "metadata": {},
   "outputs": [
    {
     "data": {
      "text/markdown": [
       "\n",
       "### Function name: `df.mp_plot.folium_map`\n",
       "\n",
       "Function type: **pandas_ext**\n",
       "\n",
       "Description: **Plot folium map from DataFrame.**\n",
       "\n",
       "Example:\n",
       "```python3\n",
       "df.mp_plot.folium_map(<args...)\n",
       "```\n",
       "\n",
       "#### Other possible matches:\n",
       "- IpAddress.util.geoloc\n",
       "- df.mp_plot.incident_graph\n",
       "- df.mp_plot.timeline\n",
       "- df.mp_plot.network\n",
       "- df.mp_plot.matrix\n",
       "\n",
       "\n"
      ],
      "text/plain": [
       "<IPython.core.display.Markdown object>"
      ]
     },
     "execution_count": 37,
     "metadata": {},
     "output_type": "execute_result"
    }
   ],
   "source": [
    "mpfs.find_mp_function(\"I want to plot a map.\")"
   ]
  }
 ],
 "metadata": {
  "kernelspec": {
   "display_name": "mp-gpt",
   "language": "python",
   "name": "python3"
  },
  "language_info": {
   "codemirror_mode": {
    "name": "ipython",
    "version": 3
   },
   "file_extension": ".py",
   "mimetype": "text/x-python",
   "name": "python",
   "nbconvert_exporter": "python",
   "pygments_lexer": "ipython3",
   "version": "3.11.3"
  },
  "orig_nbformat": 4
 },
 "nbformat": 4,
 "nbformat_minor": 2
}
