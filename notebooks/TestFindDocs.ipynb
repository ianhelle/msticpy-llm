{
 "cells": [
  {
   "cell_type": "code",
   "execution_count": 2,
   "metadata": {},
   "outputs": [],
   "source": [
    "import sys\n",
    "import msticpy as mp\n",
    "\n",
    "sys.path.append(r'../src')\n",
    "\n",
    "%load_ext autoreload\n",
    "%autoreload 2"
   ]
  },
  {
   "cell_type": "code",
   "execution_count": 2,
   "metadata": {},
   "outputs": [],
   "source": [
    "import logging\n",
    "logging.basicConfig(level=logging.INFO)"
   ]
  },
  {
   "cell_type": "markdown",
   "metadata": {},
   "source": [
    "## Doc search examples"
   ]
  },
  {
   "cell_type": "code",
   "execution_count": 23,
   "metadata": {},
   "outputs": [],
   "source": [
    "from search_docs import RTDocSearch\n"
   ]
  },
  {
   "cell_type": "code",
   "execution_count": null,
   "metadata": {},
   "outputs": [],
   "source": [
    "# Build vectorstore from HTML (skip if already built)\n",
    "RTDocSearch.create_vectorstore(\"e:/src/msticpy/docs/build/html\", \"./mp-rtd-vs.faiss_index\")"
   ]
  },
  {
   "cell_type": "code",
   "execution_count": 24,
   "metadata": {},
   "outputs": [],
   "source": [
    "# Load pre-created vectorstore\n",
    "doc_search = RTDocSearch(\"./mp-rtd-vs.faiss_index\", model_name=\"gpt-4\")"
   ]
  },
  {
   "cell_type": "code",
   "execution_count": 25,
   "metadata": {},
   "outputs": [
    {
     "data": {
      "text/markdown": [
       "To plot a timeline from a DataFrame, you can use the `mp_plot.timeline()` function which is implemented as a pandas accessor. This allows you to plot directly from the DataFrame. Here is an example:\n",
       "\n",
       "```python\n",
       "df.mp_plot.timeline(\n",
       "   group_by=\"Account\",\n",
       "   source_columns=[\"NewProcessName\", \"ParentProcessName\"],\n",
       "   yaxis=True\n",
       ");\n",
       "```\n",
       "\n",
       "In this example, `df` is your DataFrame. The `group_by` parameter is used to define the way that the data is grouped. The `source_columns` parameter is used to specify the columns from the DataFrame that you want to include in the plot. The `yaxis` parameter is set to `True` to enable the y-axis.\n",
       "\n",
       "Please note that the trailing semicolon is not mandatory. It is used here to prevent Jupyter from showing the return value from the function."
      ],
      "text/plain": [
       "<IPython.core.display.Markdown object>"
      ]
     },
     "execution_count": 25,
     "metadata": {},
     "output_type": "execute_result"
    }
   ],
   "source": [
    "\n",
    "doc_search.ask(\"How do I plot a timeline from a dataframe?\")"
   ]
  },
  {
   "cell_type": "code",
   "execution_count": 26,
   "metadata": {},
   "outputs": [
    {
     "data": {
      "text/markdown": [
       "To find threat intelligence reports for an IP address, you can use the `lookup_ip` function from the `IpAddress` class in MSTICPy. This function queries all loaded providers that support the observable type (in this case, an IP address). \n",
       "\n",
       "Here is an example of how to use this function:\n",
       "\n",
       "```python\n",
       "from msticpy.datamodel.entities import IpAddress\n",
       "\n",
       "# Define the IP addresses you want to look up\n",
       "iocs = ['162.244.80.235', '185.141.63.120', '82.118.21.1', '85.93.88.165']\n",
       "\n",
       "# Use the lookup_ip function to find threat intelligence reports\n",
       "results = IpAddress.ti.lookup_ip(iocs)\n",
       "```\n",
       "\n",
       "In this example, `iocs` is a list of IP addresses for which you want to find threat intelligence reports. The `lookup_ip` function returns a DataFrame with the results.\n",
       "\n",
       "If you want to specify which providers to query, you can use the `providers` parameter to specify a list of provider names. For example:\n",
       "\n",
       "```python\n",
       "results = IpAddress.ti.lookup_ip(iocs, providers=['RiskIQ', 'VirusTotal'])\n",
       "```\n",
       "\n",
       "In this case, the function will only query the 'RiskIQ' and 'VirusTotal' providers."
      ],
      "text/plain": [
       "<IPython.core.display.Markdown object>"
      ]
     },
     "execution_count": 26,
     "metadata": {},
     "output_type": "execute_result"
    }
   ],
   "source": [
    "doc_search.ask(\"How do I find threat intelligence reports for an IP address?\")"
   ]
  },
  {
   "cell_type": "code",
   "execution_count": 28,
   "metadata": {},
   "outputs": [
    {
     "data": {
      "text/markdown": [
       "To query log data from Microsoft Sentinel, you can use the MSTICPy package. Here are the steps:\n",
       "\n",
       "1. **Create a Query Provider**: You need to create a Query Provider for Microsoft Sentinel. This is done using the `QueryProvider` class in MSTICPy.\n",
       "\n",
       "```python\n",
       "from msticpy.data import QueryProvider\n",
       "qry_prov = QueryProvider(\"LogAnalytics\")\n",
       "```\n",
       "\n",
       "2. **Connect to a Data Environment**: You need to connect to your Microsoft Sentinel workspace. You can do this by using the `connect` method of the `QueryProvider` object you created. You will need to provide your tenant ID and workspace ID.\n",
       "\n",
       "```python\n",
       "qry_prov.connect(\"<tenant_id>\", \"<workspace_id>\")\n",
       "```\n",
       "\n",
       "3. **Run a Query**: Once connected, you can run a query using the `query` method of the `QueryProvider` object. You can either run a pre-defined query or an ad hoc query.\n",
       "\n",
       "```python\n",
       "# Running a pre-defined query\n",
       "data = qry_prov.SecurityAlert.list_alerts(start=\"2022-01-01\", end=\"2022-01-31\")\n",
       "\n",
       "# Running an ad hoc query\n",
       "data = qry_prov.exec_query('''\n",
       "    SecurityAlert\n",
       "    | where TimeGenerated > ago(30d)\n",
       "    | where AlertName has \"Malware\"\n",
       "''')\n",
       "```\n",
       "\n",
       "Please note that the actual query string will depend on the specific log data you want to retrieve from Microsoft Sentinel. The above examples are just illustrative.\n",
       "\n",
       "Remember to replace `<tenant_id>` and `<workspace_id>` with your actual Azure tenant ID and Sentinel workspace ID."
      ],
      "text/plain": [
       "<IPython.core.display.Markdown object>"
      ]
     },
     "execution_count": 28,
     "metadata": {},
     "output_type": "execute_result"
    }
   ],
   "source": [
    "doc_search.ask(\"How do I query log data from Microsoft Sentinel?\")"
   ]
  },
  {
   "cell_type": "code",
   "execution_count": 29,
   "metadata": {},
   "outputs": [
    {
     "data": {
      "text/markdown": [
       "To use MSTICPy pivot functions, you first need to import the necessary modules and initialize the pivot library. Here's a basic example of how to use pivot functions with the `IpAddress` entity:\n",
       "\n",
       "```python\n",
       "from msticpy.datamodel.entities import IpAddress\n",
       "from msticpy.init_notebook import init_notebook\n",
       "\n",
       "# Initialize the pivot library\n",
       "init_notebook(namespace=globals())\n",
       "\n",
       "# Create an IpAddress entity\n",
       "ip_entity = IpAddress(Address=\"157.53.1.1\")\n",
       "\n",
       "# Use pivot functions on the IpAddress entity\n",
       "ip_type = ip_entity.util.ip_type()\n",
       "whois_info = ip_entity.util.whois()\n",
       "geolocation = ip_entity.util.geoloc()\n",
       "\n",
       "# Print the results\n",
       "print(ip_type)\n",
       "print(whois_info)\n",
       "print(geolocation)\n",
       "```\n",
       "\n",
       "In this example, we're using the `ip_type`, `whois`, and `geoloc` pivot functions on an `IpAddress` entity. These functions return information about the IP address, such as its type (public or private), whois information, and geolocation data.\n",
       "\n",
       "Remember, the pivot functions are attached to the entities most relevant to that operation. So, if you want to do things with an IP address, just load the `IpAddress` entity and browse its methods.\n",
       "\n",
       "For more detailed examples and explanations, you can check out the following notebooks:\n",
       "- [PivotFunctions-Introduction](https://github.com/microsoft/msticpy/blob/main/docs/notebooks/PivotFunctions-Introduction.ipynb)\n",
       "- [PivotFunctions](https://github.com/microsoft/msticpy/blob/main/docs/notebooks/PivotFunctions.ipynb)\n",
       "\n",
       "These notebooks illustrate the use of pivot functions and cover most of the use cases."
      ],
      "text/plain": [
       "<IPython.core.display.Markdown object>"
      ]
     },
     "execution_count": 29,
     "metadata": {},
     "output_type": "execute_result"
    }
   ],
   "source": [
    "doc_search.ask(\"Show me how to use msticpy pivot functions?\")"
   ]
  },
  {
   "cell_type": "markdown",
   "metadata": {},
   "source": [
    "## Code search - not as successful!"
   ]
  },
  {
   "cell_type": "code",
   "execution_count": 30,
   "metadata": {},
   "outputs": [],
   "source": [
    "from search_code import CodeSearch\n",
    "\n",
    "#CodeSearch.create_vectorstore(\"e:/src/msticpy/\", \"./mp-code-vs.faiss_index\")"
   ]
  },
  {
   "cell_type": "code",
   "execution_count": 31,
   "metadata": {},
   "outputs": [
    {
     "name": "stdout",
     "output_type": "stream",
     "text": [
      "Exception reporting mode: Verbose\n"
     ]
    }
   ],
   "source": [
    "%xmode verbose\n",
    "code_search = CodeSearch(\"./mp-code-vs.faiss_index\")\n"
   ]
  },
  {
   "cell_type": "code",
   "execution_count": 32,
   "metadata": {},
   "outputs": [
    {
     "data": {
      "text/markdown": [
       "The `FoliumMap` class in the provided context has several parameters that can be used to customize the map. Here are the parameters:\n",
       "\n",
       "- `icon_map` (optional): This is a mapping dictionary or function. It is `None` by default.\n",
       "- `popup_columns` (optional): This is a list of columns to use for the popup text. It is `None` by default.\n",
       "- `tooltip_columns` (optional): This is a list of columns to use for the tooltip text. It is `None` by default.\n",
       "- `marker_cluster` (optional): This is a boolean value that determines whether to use marker clustering. The default is `True`.\n",
       "- `default_color` (optional): This is the default color for marker icons. The default is `\"blue\"`.\n",
       "- `title` (optional): This is the name of the layer. The default is `'layer1'`.\n",
       "- `zoom_start` (optional): This is the zoom level of the map. The default is `7`.\n",
       "- `tiles` (optional): This is a custom set of tiles or tile URL. The default is `None`.\n",
       "\n",
       "Here is an example of how to use these parameters:\n",
       "\n",
       "```python\n",
       "folium_map = FoliumMap(\n",
       "    title=\"My Map\",\n",
       "    zoom_start=10,\n",
       "    tiles=\"OpenStreetMap\",\n",
       "    marker_cluster=True,\n",
       "    default_color=\"red\",\n",
       "    icon_map={\"icon\": \"info-sign\"},\n",
       "    popup_columns=[\"column1\", \"column2\"],\n",
       "    tooltip_columns=[\"column3\", \"column4\"]\n",
       ")\n",
       "```\n",
       "\n",
       "In this example, a `FoliumMap` object is created with a title of \"My Map\", a zoom level of 10, using the \"OpenStreetMap\" tiles, with marker clustering enabled, a default marker color of red, an icon map with an \"info-sign\" icon, and specific columns for the popup and tooltip text."
      ],
      "text/plain": [
       "<IPython.core.display.Markdown object>"
      ]
     },
     "execution_count": 32,
     "metadata": {},
     "output_type": "execute_result"
    }
   ],
   "source": [
    "code_search.ask(\"What are the parameters for folium?\")"
   ]
  },
  {
   "cell_type": "code",
   "execution_count": 33,
   "metadata": {},
   "outputs": [],
   "source": [
    "### Compare same question to doc search"
   ]
  },
  {
   "cell_type": "code",
   "execution_count": 34,
   "metadata": {},
   "outputs": [
    {
     "data": {
      "text/markdown": [
       "The parameters for the `FoliumMap` class in MSTICPy are:\n",
       "\n",
       "- `title` (str, optional): Name of the layer (the default is 'layer1')\n",
       "- `zoom_start` (int, optional): The zoom level of the map (the default is 7)\n",
       "- `tiles` ([type], optional): Custom set of tiles or tile URL (the default is None)\n",
       "- `width` (str, optional): Map display width (the default is '100%')\n",
       "- `height` (str, optional): Map display height (the default is '100%')\n",
       "- `location` (list, optional): Location to center map on\n",
       "\n",
       "Here is an example of how to use these parameters with the `FoliumMap` class:\n",
       "\n",
       "```python\n",
       "from msticpy.vis.foliummap import FoliumMap\n",
       "\n",
       "# Create a new FoliumMap instance\n",
       "folium_map = FoliumMap(location=(47.5982328,-122.331), zoom_start=14, width='50%', height='50%')\n",
       "\n",
       "# Access the underlying folium map object\n",
       "type(folium_map.folium_map)\n",
       "```\n",
       "\n",
       "You can also use the `FoliumMap` class via a pandas extension method. Here is an example of how to do this:\n",
       "\n",
       "```python\n",
       "import pandas as pd\n",
       "\n",
       "# Assume geo_loc_df is a DataFrame with IP location data\n",
       "geo_loc_df.mp_plot.folium_map(ip_column=\"IPAddress\")\n",
       "```\n",
       "\n",
       "In this example, `mp_plot.folium_map` is a pandas extension method that uses the `FoliumMap` class to plot IP location data from a DataFrame. The `ip_column` parameter specifies the column in the DataFrame that contains the IP addresses to plot."
      ],
      "text/plain": [
       "<IPython.core.display.Markdown object>"
      ]
     },
     "execution_count": 34,
     "metadata": {},
     "output_type": "execute_result"
    }
   ],
   "source": [
    "doc_search.ask(\"What are the parameters for folium?\")"
   ]
  },
  {
   "cell_type": "code",
   "execution_count": 35,
   "metadata": {},
   "outputs": [
    {
     "data": {
      "text/markdown": [
       "To create a `QueryTime` widget, you can use the `QueryTime` class constructor. The constructor accepts several parameters, including `origin_time`, `before`, `after`, `label`, `units`, and others. \n",
       "\n",
       "Here is an example of how to create a `QueryTime` widget:\n",
       "\n",
       "```python\n",
       "from datetime import datetime, timezone\n",
       "\n",
       "query_time_widget = QueryTime(\n",
       "    origin_time=datetime.now(timezone.utc),\n",
       "    before=1,\n",
       "    after=0,\n",
       "    label=\"Set time range for pivot functions.\",\n",
       "    units=\"day\",\n",
       ")\n",
       "```\n",
       "\n",
       "In this example, `origin_time` is set to the current date and time, `before` is set to 1, `after` is set to 0, `label` is set to \"Set time range for pivot functions.\", and `units` is set to \"day\".\n",
       "\n",
       "Please note that this code example is based on the provided context and may require additional imports or setup code to run correctly."
      ],
      "text/plain": [
       "<IPython.core.display.Markdown object>"
      ]
     },
     "execution_count": 35,
     "metadata": {},
     "output_type": "execute_result"
    }
   ],
   "source": [
    "\n",
    "code_search.ask(\"How do I create a QueryTime widget?\")"
   ]
  },
  {
   "cell_type": "code",
   "execution_count": 36,
   "metadata": {},
   "outputs": [
    {
     "data": {
      "text/markdown": [
       "The GeoIP Lite lookup is used by creating an instance of the `GeoLiteLookup` class and then calling the `lookup_ip` method on it. The `lookup_ip` method takes an IP address as a parameter and returns the geographic location of the IP address.\n",
       "\n",
       "Here is an example of how to use the GeoIP Lite lookup:\n",
       "\n",
       "```python\n",
       "from msticpy.sectools.geoip import GeoLiteLookup\n",
       "\n",
       "# Create an instance of the GeoLiteLookup class\n",
       "ip_location = GeoLiteLookup()\n",
       "\n",
       "# Use the lookup_ip method to get the location of an IP address\n",
       "location = ip_location.lookup_ip(ip_address=\"104.97.41.163\")\n",
       "\n",
       "print(location)\n",
       "```\n",
       "\n",
       "In this example, the `lookup_ip` method is called with the IP address \"104.97.41.163\". The method returns the geographic location of the IP address.\n",
       "\n",
       "Please note that you need to have a valid API key from Maxmind GeoLite2 to use this service. The API key should be added to your `msticpyconfig.yaml` file. If no API key is found, a message will be displayed with instructions on how to obtain and add the API key.\n",
       "\n",
       "```python\n",
       "_NO_API_KEY_MSSG = \"\"\"\n",
       "No API Key was found to download the Maxmind GeoIPLite database.\n",
       "If you do not have an account, go here to create one and obtain and API key.\n",
       "https://www.maxmind.com/en/geolite2/signup\n",
       "\n",
       "Add this API key to your msticpyconfig.yaml\n",
       "https://msticpy.readthedocs.io/en/latest/data_acquisition/GeoIPLookups.html#maxmind-geo-ip-lite-lookup-class.\n",
       "\"\"\"\n",
       "```\n",
       "\n",
       "Please note that this module does not appear to expose any functionality via a pandas extension method or a pivot function."
      ],
      "text/plain": [
       "<IPython.core.display.Markdown object>"
      ]
     },
     "execution_count": 36,
     "metadata": {},
     "output_type": "execute_result"
    }
   ],
   "source": [
    "code_search.ask(\"What is the syntax for using the GeoIP Lite lookup?\")"
   ]
  },
  {
   "cell_type": "code",
   "execution_count": null,
   "metadata": {},
   "outputs": [],
   "source": [
    "code_search.retriever.retriever.vectorstore.max_marginal_relevance_search"
   ]
  },
  {
   "cell_type": "code",
   "execution_count": 64,
   "metadata": {},
   "outputs": [
    {
     "name": "stdout",
     "output_type": "stream",
     "text": [
      "File: msticpy\\context\\geoip.py\n",
      "------------------------\n",
      "\n",
      "+ \"edition_id=GeoLite2-City&license_key={license_key}&suffix=tar.gz\"\n",
      "    )\n",
      "\n",
      "    _DB_HOME = str(Path.joinpath(Path(\"~\").expanduser(), \".msticpy\", \"GeoLite2\"))\n",
      "    _DB_ARCHIVE = \"GeoLite2-City.mmdb.{rand}.tar.gz\"\n",
      "    _DB_FILE = \"GeoLite2-City.mmdb\"\n",
      "\n",
      "    _LICENSE_HTML = \"\"\"\n",
      "This product includes GeoLite2 data created by MaxMind, available from\n",
      "<a href=\"https://www.maxmind.com\">https://www.maxmind.com</a>.\n",
      "\"\"\"\n",
      "\n",
      "    _LICENSE_TXT = \"\"\"\n",
      "This product includes GeoLite2 data created by MaxMind, available from\n",
      "https://www.maxmind.com.\n",
      "\"\"\"\n",
      "\n",
      "    _NO_API_KEY_MSSG = \"\"\"\n",
      "No API Key was found to download the Maxmind GeoIPLite database.\n",
      "If you do not have an account, go here to create one and obtain and API key.\n",
      "https://www.maxmind.com/en/geolite2/signup\n",
      "\n",
      "Add this API key to your msticpyconfig.yaml\n",
      "https://msticpy.readthedocs.io/en/latest/data_acquisition/GeoIPLookups.html#maxmind-geo-ip-lite-lookup-class.\n",
      "\n",
      "File: msticpy\\context\\geoip.py\n",
      "------------------------\n",
      "\n",
      "geo_entity.City = geo_match.get(\"city\", {}).get(\"names\", {}).get(\"en\", None)\n",
      "        geo_entity.Longitude = geo_match.get(\"location\", {}).get(\"longitude\", None)\n",
      "        geo_entity.Latitude = geo_match.get(\"location\", {}).get(\"latitude\", None)\n",
      "        ip_entity.Location = geo_entity\n",
      "        return ip_entity\n",
      "\n",
      "    def _check_initialized(self):\n",
      "        \"\"\"Check if DB reader open with a valid database.\"\"\"\n",
      "        if self._reader and self.settings:\n",
      "            return\n",
      "\n",
      "        self.settings = _get_geoip_provider_settings(\"GeoIPLite\")\n",
      "        self._api_key = self._api_key or self.settings.args.get(\"AuthKey\")\n",
      "\n",
      "        self._db_folder: str = (\n",
      "            self._db_folder\n",
      "            if self._db_folder != self._UNSET_PATH\n",
      "            else self.settings.args.get(\"DBFolder\", self._DB_HOME)  # type: ignore\n",
      "        )\n",
      "        self._db_folder = str(Path(self._db_folder).expanduser())  # type: ignore\n",
      "        self._check_and_update_db()\n",
      "\n"
     ]
    }
   ],
   "source": [
    "\n",
    "docs = code_search.retriever.retriever.vectorstore.similarity_search(\"geolite\", k=10)\n",
    "\n",
    "content = [doc for doc in docs if doc.metadata[\"source\"].startswith(\"msticpy\")][:5]\n",
    "print(\"\\n\".join([f\"File: {doc.metadata['source']}\\n{'-' * len(doc.metadata['source'])}\\n\\n{doc.page_content}\\n\" for doc in content]))\n"
   ]
  }
 ],
 "metadata": {
  "kernelspec": {
   "display_name": "mp-gpt",
   "language": "python",
   "name": "python3"
  },
  "language_info": {
   "codemirror_mode": {
    "name": "ipython",
    "version": 3
   },
   "file_extension": ".py",
   "mimetype": "text/x-python",
   "name": "python",
   "nbconvert_exporter": "python",
   "pygments_lexer": "ipython3",
   "version": "3.11.3"
  },
  "orig_nbformat": 4
 },
 "nbformat": 4,
 "nbformat_minor": 2
}
