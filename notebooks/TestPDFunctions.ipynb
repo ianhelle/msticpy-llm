{
 "cells": [
  {
   "cell_type": "code",
   "execution_count": 1,
   "metadata": {},
   "outputs": [
    {
     "name": "stderr",
     "output_type": "stream",
     "text": [
      "E:\\src\\msticpy\\msticpy\\transform\\IoCExtract.py:669: UserWarning: registration of accessor <class 'msticpy.transform.IoCExtract.IoCExtractAccessor'> under name 'mp_ioc' for type <class 'pandas.core.frame.DataFrame'> is overriding a preexisting attribute with the same name.\n",
      "  @pd.api.extensions.register_dataframe_accessor(\"mp_ioc\")\n"
     ]
    },
    {
     "data": {
      "text/html": [
       "Attempting connection to Key Vault using cli credentials..."
      ],
      "text/plain": [
       "<IPython.core.display.HTML object>"
      ]
     },
     "metadata": {},
     "output_type": "display_data"
    },
    {
     "data": {
      "text/html": [
       "done<br>"
      ],
      "text/plain": [
       "<IPython.core.display.HTML object>"
      ]
     },
     "metadata": {},
     "output_type": "display_data"
    }
   ],
   "source": [
    "import msticpy as mp\n",
    "mp.init_notebook()\n",
    "# qry_prov = mp.QueryProvider(\"MSSentinel_New\")\n",
    "# qry_prov.connect()\n",
    "import sys\n",
    "sys.path.append(r'../src')\n",
    "%load_ext autoreload\n",
    "%autoreload 2"
   ]
  },
  {
   "cell_type": "code",
   "execution_count": 5,
   "metadata": {},
   "outputs": [
    {
     "name": "stdout",
     "output_type": "stream",
     "text": [
      " Volume in drive E has no label.\n",
      " Volume Serial Number is 7E50-19F7\n",
      "\n",
      " Directory of e:\\src\\notebooks\\demos\\data\n",
      "\n",
      "2022-01-24  19:36    <DIR>          .\n",
      "2023-07-24  15:58    <DIR>          ..\n",
      "2020-02-13  09:53            58,327 alerts_list.pkl\n",
      "2019-12-05  15:11        18,391,639 all_events_df.pkl\n",
      "2019-11-02  12:24           385,203 az_net_comms_df.pkl\n",
      "2019-12-05  15:11            10,735 az_net_df.pkl\n",
      "2019-12-05  15:11           180,577 clus_events.pkl\n",
      "2019-12-05  15:11             6,560 clus_logons.pkl\n",
      "2019-12-05  15:11             5,362 combined.pkl\n",
      "2019-12-05  15:11            16,737 dest_pos.pkl\n",
      "2019-12-05  15:11             4,920 event_pivot.pkl\n",
      "2019-12-05  15:11             2,369 event_subset.pkl\n",
      "2019-12-05  15:11             2,614 failedLogons.pkl\n",
      "2019-12-05  15:11        11,044,021 feature_procs.pkl\n",
      "2019-11-02  12:24            70,859 flows_df.pkl\n",
      "2019-12-05  15:11           177,780 flow_index.pkl\n",
      "2019-12-05  15:11             3,837 flow_sum_df.pkl\n",
      "2019-12-05  15:11             2,767 host_hb_df.pkl\n",
      "2019-11-02  12:24            47,819 host_logons.pkl\n",
      "2019-12-05  15:11               790 iocs_to_check.pkl\n",
      "2019-12-05  15:11             1,112 ioc_df.pkl\n",
      "2019-12-12  20:00        10,461,211 linux_proc_test.pkl\n",
      "2019-12-05  15:11            51,857 logon_features.pkl\n",
      "2019-12-05  15:11               664 matching_hosts_df.pkl\n",
      "2019-11-02  12:24         9,051,282 processes_on_host.pkl\n",
      "2019-12-12  20:00           403,432 processes_test.pkl\n",
      "2019-11-01  17:17             1,485 process_rarity.pkl\n",
      "2019-12-05  15:11        11,584,892 procs_with_cluster.pkl\n",
      "2019-12-05  15:11             1,305 quant_25pc_df.pkl\n",
      "2019-12-05  15:11             1,454 rare_sess.pkl\n",
      "2019-12-05  15:11            90,510 rare_sessions.pkl\n",
      "2019-12-05  15:11            32,745 related_alerts.pkl\n",
      "2020-08-14  12:31    <DIR>          save\n",
      "2019-12-05  15:11             1,034 selected_in.pkl\n",
      "2019-12-05  15:11             1,810 selected_logon.pkl\n",
      "2019-12-05  15:11             1,034 selected_out.pkl\n",
      "2019-12-05  15:11            22,492 sess_procs.pkl\n",
      "2019-12-05  15:11             1,409 src_pos.pkl\n",
      "2019-12-05  15:11            16,737 ti_ip_results.pkl\n",
      "2019-12-05  15:11            18,167 ti_results.pkl\n",
      "2019-12-05  15:11            13,012 ti_results_pos.pkl\n",
      "2019-12-05  15:11           474,691 win_events_acc.pkl\n",
      "2019-12-05  15:11            73,509 win_event_df.pkl\n",
      "              40 File(s)     62,718,760 bytes\n",
      "               3 Dir(s)  156,136,501,248 bytes free\n"
     ]
    }
   ],
   "source": [
    "!dir ..\\..\\notebooks\\demos\\data"
   ]
  },
  {
   "cell_type": "code",
   "execution_count": 2,
   "metadata": {},
   "outputs": [],
   "source": [
    "win_logons_df = pd.read_pickle(\"../../notebooks/demos/data/host_logons.pkl\")\n",
    "win_procs_df = pd.read_pickle(\"../../notebooks/demos/data/processes_on_host.pkl\")\n",
    "lx_procs_df = pd.read_pickle(\"../../notebooks/demos/data/linux_proc_test.pkl\")"
   ]
  },
  {
   "cell_type": "code",
   "execution_count": 24,
   "metadata": {},
   "outputs": [],
   "source": [
    "import yaml\n",
    "from pathlib import Path\n",
    "\n",
    "entities = Path(\"../src/entities.yaml\").read_text()\n",
    "df_prompts = yaml.safe_load(Path(\"../src/df_prompts.yaml\").read_text())"
   ]
  },
  {
   "cell_type": "code",
   "execution_count": 15,
   "metadata": {},
   "outputs": [
    {
     "data": {
      "text/plain": [
       "dict_keys(['chain_tasks', 'df_generic_task', 'classify_df', 'df_process_tree_schema', 'df_identify_entities'])"
      ]
     },
     "execution_count": 15,
     "metadata": {},
     "output_type": "execute_result"
    }
   ],
   "source": [
    "df_prompts[\"prompts\"].keys()"
   ]
  },
  {
   "cell_type": "code",
   "execution_count": 14,
   "metadata": {},
   "outputs": [
    {
     "name": "stdout",
     "output_type": "stream",
     "text": [
      "You are an assistant that is expert in CyberSecurity concepts.\n",
      "You are provided with a pandas dataframe (df) with {num_rows} rows and {num_columns} columns.\n",
      "This is the result of `print(df.head({rows_to_display}))`:\n",
      "{df_head}.\n",
      "\n",
      "When asked about the data, do the following:\n",
      "{task}\n",
      "\n"
     ]
    }
   ],
   "source": [
    "print(df_prompts[\"prompts\"][\"df_generic_task\"])"
   ]
  },
  {
   "cell_type": "code",
   "execution_count": 4,
   "metadata": {},
   "outputs": [],
   "source": [
    "from pd_queries import analyze_df"
   ]
  },
  {
   "cell_type": "code",
   "execution_count": 6,
   "metadata": {},
   "outputs": [
    {
     "data": {
      "text/plain": [
       "'{\\n  \"inferred data type\": \"logon/authentication events\",\\n  \"inferred data origin\": \"windows host\"\\n}'"
      ]
     },
     "execution_count": 6,
     "metadata": {},
     "output_type": "execute_result"
    }
   ],
   "source": [
    "# classify_prompt = df_prompts[\"prompts\"][\"df_generic_task\"].format(task=df_prompts[\"prompts\"][\"classify_df\"])\n",
    "analyze_df(win_logons_df, df_prompts[\"prompts\"][\"df_generic_task\"][\"prompt\"], df_prompts[\"prompts\"][\"df_classify\"][\"prompt\"])"
   ]
  },
  {
   "cell_type": "code",
   "execution_count": 7,
   "metadata": {},
   "outputs": [
    {
     "name": "stdout",
     "output_type": "stream",
     "text": [
      "{\n",
      "  \"process_name\": \"exe\",\n",
      "  \"process_id\": \"pid\",\n",
      "  \"parent_id\": \"ppid\",\n",
      "  \"time_stamp\": \"TimeGenerated\",\n",
      "  \"cmd_line\": \"cmdline\",\n",
      "  \"user_name\": null,\n",
      "  \"logon_id\": null,\n",
      "  \"host_name\": null,\n",
      "  \"parent_name\": null,\n",
      "  \"target_logon_id\": null,\n",
      "  \"user_id\": null,\n",
      "  \"event_id\": null\n",
      "}\n"
     ]
    }
   ],
   "source": [
    "print(analyze_df(lx_procs_df, df_prompts[\"prompts\"][\"df_generic_task\"][\"prompt\"], df_prompts[\"prompts\"][\"df_process_tree_schema\"][\"prompt\"]))"
   ]
  },
  {
   "cell_type": "code",
   "execution_count": 8,
   "metadata": {},
   "outputs": [
    {
     "name": "stdout",
     "output_type": "stream",
     "text": [
      "{\n",
      "  \"TenantId\": \"Account.AAD_USER_PRINCIPAL_NAME\",\n",
      "  \"Account\": \"Account.WINDOWS_USER_NAME\",\n",
      "  \"EventID\": null,\n",
      "  \"TimeGenerated\": \"TIME_STAMP\",\n",
      "  \"SourceComputerId\": null,\n",
      "  \"Computer\": \"HOST_NAME\",\n",
      "  \"SubjectUserName\": \"Account.WINDOWS_USER_NAME\",\n",
      "  \"SubjectDomainName\": \"DOMAIN_NAME\",\n",
      "  \"SubjectUserSid\": null,\n",
      "  \"TargetUserName\": \"Account.WINDOWS_USER_NAME\",\n",
      "  \"TargetDomainName\": \"DOMAIN_NAME\",\n",
      "  \"TargetUserSid\": null,\n",
      "  \"TargetLogonId\": null,\n",
      "  \"LogonProcessName\": \"PROCESS_NAME\",\n",
      "  \"LogonType\": null,\n",
      "  \"AuthenticationPackageName\": null,\n",
      "  \"Status\": null,\n",
      "  \"IpAddress\": \"IP_ADDRESS\",\n",
      "  \"WorkstationName\": \"HOST_NAME\",\n",
      "  \"TimeCreatedUtc\": \"TIME_STAMP\"\n",
      "}\n"
     ]
    }
   ],
   "source": [
    "entity_task = df_prompts[\"prompts\"][\"df_identify_entities\"][\"prompt\"].format(ontology_entities=entities)\n",
    "print(analyze_df(win_logons_df, df_prompts[\"prompts\"][\"df_generic_task\"][\"prompt\"], entity_task))\n",
    "\n"
   ]
  },
  {
   "cell_type": "code",
   "execution_count": 14,
   "metadata": {},
   "outputs": [
    {
     "name": "stdout",
     "output_type": "stream",
     "text": [
      "{\n",
      "  \"TenantId\": \"Account.AAD_USER_PRINCIPAL_NAME\",\n",
      "  \"Account\": \"Account.WINDOWS_USER_NAME\",\n",
      "  \"EventID\": null,\n",
      "  \"TimeGenerated\": \"TIME_STAMP\",\n",
      "  \"Computer\": \"HOST_NAME\",\n",
      "  \"SubjectUserSid\": null,\n",
      "  \"SubjectUserName\": \"Account.WINDOWS_USER_NAME\",\n",
      "  \"SubjectDomainName\": null,\n",
      "  \"SubjectLogonId\": null,\n",
      "  \"NewProcessId\": null,\n",
      "  \"NewProcessName\": \"FILE_PATH\",\n",
      "  \"TokenElevationType\": null,\n",
      "  \"ProcessId\": null,\n",
      "  \"CommandLine\": \"COMMAND_LINE\",\n",
      "  \"ParentProcessName\": \"PROCESS_NAME\",\n",
      "  \"TargetLogonId\": null,\n",
      "  \"SourceComputerId\": null,\n",
      "  \"TimeCreatedUtc\": \"TIME_STAMP\"\n",
      "}\n"
     ]
    }
   ],
   "source": [
    "print(analyze_df(win_procs_df, df_prompts[\"prompts\"][\"df_generic_task\"][\"prompt\"], entity_task))"
   ]
  },
  {
   "cell_type": "code",
   "execution_count": 19,
   "metadata": {},
   "outputs": [
    {
     "name": "stdout",
     "output_type": "stream",
     "text": [
      "{\n",
      "  \"EventType\": \"null.null\",\n",
      "  \"TenantId\": \"null.null\",\n",
      "  \"Computer\": \"Host.HOST_NAME\",\n",
      "  \"mssg_id\": \"null.null\",\n",
      "  \"TimeGenerated\": \"null.null\",\n",
      "  \"a0\": \"null.null\",\n",
      "  \"a1\": \"null.null\",\n",
      "  \"a2\": \"null.null\",\n",
      "  \"argc\": \"null.null\",\n",
      "  \"auid\": \"null.null\",\n",
      "  \"cmdline\": \"Process.COMMAND_LINE\",\n",
      "  \"cwd\": \"File.FILE_PATH\",\n",
      "  \"egid\": \"null.null\",\n",
      "  \"euid\": \"null.null\",\n",
      "  \"exe\": \"File.FILE_NAME\",\n",
      "  \"gid\": \"null.null\",\n",
      "  \"pid\": \"null.null\",\n",
      "  \"ppid\": \"null.null\",\n",
      "  \"proctitle\": \"null.null\",\n",
      "  \"ses\": \"null.null\",\n",
      "  \"success\": \"null.null\",\n",
      "  \"uid\": \"null.null\"\n",
      "}\n"
     ]
    }
   ],
   "source": [
    "print(analyze_df(lx_procs_df, df_prompts[\"prompts\"][\"df_generic_task\"][\"prompt\"], entity_task))"
   ]
  },
  {
   "cell_type": "code",
   "execution_count": 9,
   "metadata": {},
   "outputs": [
    {
     "name": "stdout",
     "output_type": "stream",
     "text": [
      "[\n",
      "  {\n",
      "    \"Name\": \"SubjectUserName\",\n",
      "    \"Domain\": \"SubjectDomainName\",\n",
      "    \"SID\": \"SubjectUserSid\",\n",
      "    \"UserID\": null,\n",
      "    \"ObjectGUID\": null,\n",
      "    \"LogonID\": null,\n",
      "    \"Role\": \"Subject\"\n",
      "  },\n",
      "  {\n",
      "    \"Name\": \"TargetUserName\",\n",
      "    \"Domain\": \"TargetDomainName\",\n",
      "    \"SID\": \"TargetUserSid\",\n",
      "    \"UserID\": null,\n",
      "    \"ObjectGUID\": null,\n",
      "    \"LogonID\": \"TargetLogonId\",\n",
      "    \"Role\": \"Target\"\n",
      "  },\n",
      "  {\n",
      "    \"Name\": \"Account\",\n",
      "    \"Domain\": null,\n",
      "    \"SID\": null,\n",
      "    \"UserID\": null,\n",
      "    \"ObjectGUID\": null,\n",
      "    \"LogonID\": null,\n",
      "    \"Role\": null\n",
      "  }\n",
      "]\n"
     ]
    }
   ],
   "source": [
    " discarded = \"\"\"If are other columns not defined here, e.g. \"UserDisplayName\" that relate\n",
    "  directly to the account (i.e. they have the term \"account\" or \"user\" in the name),\n",
    "  add the following attribute to the account including those columns names.\n",
    "  (don't include columns that are already mapped to one of the above attributes):\n",
    "  - RelatedColumns (list of strings)\n",
    "\"\"\"\n",
    "\n",
    "find_accounts_prompt = \"\"\"\n",
    "Your task is to map the columns of the source dataframe that refer\n",
    "to computer accounts. You *must* return the results that you find in\n",
    "the source dataframe, not code to find them.\n",
    "\n",
    "1. Identify the columns that refer to accounts.\n",
    "  Accounts will have at minimum this attribute:\n",
    "  - Name (string) - the name of the account (synonyms: account name, account, user, username, user principal name, upn)\n",
    "    The name may be prefixed with a string identifying its role in the event, e.g. \"TargetUserName\", \"SubjectUserName\"\n",
    "\n",
    "  Accounts may also have these additional attributes:\n",
    "  - Domain (string) - the name of the account (synonyms: account name, account, user, user principal name, upn)\n",
    "  - SID (string) - the security identifier of the account (synonyms: sid)\n",
    "  - UserID (string) - the integer user ID of the account (synonyms: userid, uid, euid). There may be multiple user IDs for the same account.\n",
    "  - ObjectGUID (string) - the object UUID of the account (synonyms: objectguid, AADUserID)\n",
    "  - LogonID (string) - the logon ID of the account (synonyms: logonid, sess, sessionid)\n",
    "\n",
    "2. Identify the role of each account in the event.\n",
    "  Multiple accounts may be present in the same event, e.g. \"TargetUserName\", \"SubjectUserName\".\n",
    "  These represent different roles in the event, e.g. the target account and the subject account.\n",
    "  The column names of each account role will typically have the same prefix.\n",
    "  Try to identify the role of each account in the event, and group the accounts by role and\n",
    "  add the following attribute to each account:\n",
    "  - Role (string) - the role of the account in the event.\n",
    "  Do not remove the role prefix from the column name that you return in the answer.\n",
    "\n",
    "3. Return the results.\n",
    "\n",
    "  You *must* return the results that you found by analyzing the source dataframe, do not\n",
    "  return code to find them.\n",
    "\n",
    "  Return the answer as a JSON list of dictionaries, where each dictionary represents the\n",
    "  mapping between the above attributes and a column found in the data, grouped by account\n",
    "  role (if any). Use the attribute names defined above as the dictionary keys and the mapped\n",
    "  column name as values. If you find no suitable mapping for an attribute, return null as the value\n",
    "  for that attribute.\n",
    "\n",
    "  Do not include duplicate definitions of the same account dictionary in the answer.\n",
    "\n",
    "  If you have at least one account-column mapping to return, discard any other\n",
    "  account mappings that only have Name and RelatedColumns that are not null.\n",
    "\"\"\"\n",
    "result = analyze_df(win_logons_df, df_prompts[\"prompts\"][\"df_generic_task\"][\"prompt\"], task=find_accounts_prompt, sample_rows=5, max_tokens=1000)\n",
    "print(result)"
   ]
  },
  {
   "cell_type": "code",
   "execution_count": 52,
   "metadata": {},
   "outputs": [
    {
     "name": "stdout",
     "output_type": "stream",
     "text": [
      "[\n",
      "  {\n",
      "    \"Name\": \"SubjectUserName\",\n",
      "    \"Domain\": \"SubjectDomainName\",\n",
      "    \"SID\": \"SubjectUserSid\",\n",
      "    \"UserID\": null,\n",
      "    \"ObjectGUID\": null,\n",
      "    \"LogonID\": \"SubjectLogonId\",\n",
      "    \"Role\": \"Subject\"\n",
      "  },\n",
      "  {\n",
      "    \"Name\": \"TargetUserName\",\n",
      "    \"Domain\": null,\n",
      "    \"SID\": null,\n",
      "    \"UserID\": null,\n",
      "    \"ObjectGUID\": null,\n",
      "    \"LogonID\": \"TargetLogonId\",\n",
      "    \"Role\": \"Target\"\n",
      "  },\n",
      "  {\n",
      "    \"Name\": \"Account\",\n",
      "    \"Domain\": null,\n",
      "    \"SID\": null,\n",
      "    \"UserID\": null,\n",
      "    \"ObjectGUID\": null,\n",
      "    \"LogonID\": null,\n",
      "    \"Role\": null\n",
      "  }\n",
      "]\n"
     ]
    }
   ],
   "source": [
    "result = analyze_df(win_procs_df, df_prompts[\"prompts\"][\"df_generic_task\"], task=find_accounts_prompt, sample_rows=5, max_tokens=1000)\n",
    "print(result)"
   ]
  },
  {
   "cell_type": "code",
   "execution_count": 32,
   "metadata": {},
   "outputs": [
    {
     "name": "stdout",
     "output_type": "stream",
     "text": [
      "[\n",
      "  {\n",
      "    \"Name\": \"CreatedProcessAccountName\",\n",
      "    \"Domain\": \"CreatedProcessAccountDomainName\",\n",
      "    \"SID\": \"CreatedProcessAccountSid\",\n",
      "    \"UserID\": null,\n",
      "    \"ObjectGUID\": null,\n",
      "    \"LogonID\": null,\n",
      "    \"Role\": \"CreatedProcess\"\n",
      "  },\n",
      "  {\n",
      "    \"Name\": \"InitiatingProcessAccountName\",\n",
      "    \"Domain\": \"InitiatingProcessAccountDomainName\",\n",
      "    \"SID\": \"InitiatingProcessAccountSid\",\n",
      "    \"UserID\": null,\n",
      "    \"ObjectGUID\": null,\n",
      "    \"LogonID\": null,\n",
      "    \"Role\": \"InitiatingProcess\"\n",
      "  }\n",
      "]\n",
      "[\n",
      "  {\n",
      "    \"Name\": \"AccountName\",\n",
      "    \"Domain\": \"AccountDomain\",\n",
      "    \"SID\": \"AccountSid\",\n",
      "    \"UserID\": null,\n",
      "    \"ObjectGUID\": null,\n",
      "    \"LogonID\": null,\n",
      "    \"Role\": \"Subject\"\n",
      "  },\n",
      "  {\n",
      "    \"Name\": \"TargetUserName\",\n",
      "    \"Domain\": \"TargetDomainName\",\n",
      "    \"SID\": \"TargetUserSid\",\n",
      "    \"UserID\": null,\n",
      "    \"ObjectGUID\": null,\n",
      "    \"LogonID\": null,\n",
      "    \"Role\": \"Target\"\n",
      "  },\n",
      "  {\n",
      "    \"Name\": \"InitiatingProcessAccountName\",\n",
      "    \"Domain\": \"InitiatingProcessAccountDomain\",\n",
      "    \"SID\": \"InitiatingProcessAccountSid\",\n",
      "    \"UserID\": null,\n",
      "    \"ObjectGUID\": null,\n",
      "    \"LogonID\": null,\n",
      "    \"Role\": \"InitiatingProcess\"\n",
      "  },\n",
      "  {\n",
      "    \"Name\": \"AccountName\",\n",
      "    \"Domain\": \"AccountDomain\",\n",
      "    \"SID\": \"AccountSid\",\n",
      "    \"UserID\": null,\n",
      "    \"ObjectGUID\": null,\n",
      "    \"LogonID\": null,\n",
      "    \"Role\": \"InitiatingProcessParent\"\n",
      "  },\n",
      "  {\n",
      "    \"Name\": \"AccountName\",\n",
      "    \"Domain\": \"AccountDomain\",\n",
      "    \"SID\": \"AccountSid\",\n",
      "    \"UserID\": null,\n",
      "    \"ObjectGUID\": null,\n",
      "    \"LogonID\": null,\n",
      "    \"Role\": \"CreatedProcessParent\"\n",
      "  }\n",
      "]\n"
     ]
    }
   ],
   "source": [
    "mde_proc_df = pd.read_csv(\"e:/src/msticpy/tests/testdata/mde_proc_cs1.csv\")\n",
    "mde_proc_pub_df = pd.read_pickle(\"e:/src/msticpy/tests/testdata/mde_proc_pub.pkl\")\n",
    "result = analyze_df(mde_proc_df, df_prompts[\"prompts\"][\"df_generic_task\"][\"prompt\"], task=find_accounts_prompt, sample_rows=2, max_tokens=1000)\n",
    "print(result)\n",
    "result = analyze_df(mde_proc_pub_df, df_prompts[\"prompts\"][\"df_generic_task\"][\"prompt\"], task=find_accounts_prompt, sample_rows=2, max_tokens=1000)\n",
    "print(result)"
   ]
  },
  {
   "cell_type": "code",
   "execution_count": 45,
   "metadata": {},
   "outputs": [
    {
     "name": "stdout",
     "output_type": "stream",
     "text": [
      "{\n",
      "    \"results\": [\n",
      "        {\n",
      "            \"Address\": \"IpAddress\",\n",
      "            \"Role\": null,\n",
      "            \"RelatedColumns\": [\"SourceComputerId\", \"Computer\", \"IpAddress\", \"WorkstationName\"]\n",
      "        },\n",
      "        {\n",
      "            \"Address\": \"IpAddress2\",\n",
      "            \"Role\": null,\n",
      "            \"RelatedColumns\": [\"IpAddress2\", \"IpAddress3\"]\n",
      "        }\n",
      "    ]\n",
      "}\n"
     ]
    }
   ],
   "source": [
    " discarded = \"\"\"If are other columns not defined here, e.g. \"UserDisplayName\" that relate\n",
    "  directly to the account (i.e. they have the term \"account\" or \"user\" in the name),\n",
    "  add the following attribute to the account including those columns names.\n",
    "  (don't include columns that are already mapped to one of the above attributes):\n",
    "  - RelatedColumns (list of strings)\n",
    "\n",
    "  Example responses:\n",
    "    Two columns \"SourceIP\" and \"DestIP\" found IP addresses found\n",
    "        [\n",
    "            { \"Address\": \"SourceIP\", \"Role\": \"Source\", \"RelatedColumns\": [\"SourcePort\"] },\n",
    "            { \"Address\": \"DestIP\", \"Role\": \"Dest\", \"RelatedColumns\": [] },\n",
    "        ]\n",
    "    Single IP address column found\n",
    "        [\n",
    "            { \"Address\": \"IpAddress\", \"Role\": null, \"RelatedColumns\": [] },\n",
    "        ]\n",
    "\n",
    "   In all cases, the value of the \"Address\" attribute\n",
    "   must the name of column from the source dataframe that has been\n",
    "   identified as an IP address column - do not make up values for your answers or add\n",
    "   any other columns.\n",
    "\n",
    "   Ensure that you follow these rules for your answer:\n",
    "   - \n",
    "   - Do not include columns in your answer that are not present in the source dataframe.\n",
    "   - Do not include duplicate definitions of the same item in your answer.\n",
    "\n",
    "\"\"\"\n",
    "\n",
    "find_ips_prompt = \"\"\"\n",
    "\n",
    "Instructions\n",
    "------------\n",
    "Overview: You are asked follow the instructions below\n",
    "to identify which columns of the source dataframe \n",
    "(enclosed in triple backticks) contain IP Addresses and return the\n",
    "answer as a JSON list. Do not return code as your answer - return\n",
    "a JSON dictionary as described in item 2 with the result of\n",
    "*your* analysis of the data.\n",
    "\n",
    "1. Identify which columns in the source dataframe (if any) contain IP addresses.\n",
    "   Use the context above together with both the source dataframe *data values*\n",
    "   and *column names* (headers) to identify which columns (if any) could contain IP Addresses.\n",
    "   - A column name containing an IP address will almost always contain the term \"IP\"\n",
    "   - Common synonyms for IP address are \"IP\", \"IPAddress\", \"IPAddr\", \"IPAddress\"\n",
    "   - IP addresses can be either a version 4 (PV4) dot-delimited string\n",
    "    (e.g. \"52.138.20.1\", \"20.10.10.1\") or a version 6 (IPV6) colon-delimited\n",
    "    string (e.g. \"2001:0db8:85a3:0000:0000:8a2e:0370:7334\",\n",
    "    \"2001:db8:85a3:0:0:8a2e:370:7334\", \"::1\")\n",
    "\n",
    "2. For each IP address column that you find in the source dataframe,\n",
    "   record the following attributes:\n",
    "    - column_name\n",
    "      (string) - the name of the column from the source dataframe\n",
    "      that contains IP address data.\n",
    "      The value of this attribute *must* be the name of a column in the source dataframe\n",
    "      ()\n",
    "      (do not make up values for your answers or add any other columns)\n",
    "    - role\n",
    "      (optional string) - the value is the role (if any) of the IP address column.\n",
    "      IP address column names are commonly prefixed with a role, e.g. \"SourceIP\"\n",
    "      (role = \"Source\"), \"DestIPAddress\" (role = \"Dest\")\n",
    "      (especially where multiple IP address columns are present in the source dataframe)\n",
    "      If there is only one IP address column in the source dataframe, then roles\n",
    "      may not applicable, so set this to null.\n",
    "    - related_columns\n",
    "      (list of strings) - If there are multiple IP columns in the data, other\n",
    "      (non-IP) may be related to these columns if they share the same prefix or suffix as the IP address column.\n",
    "      e.g. \"SourcePort\" column is related to the \"SourceIP\" IP column via the shared\n",
    "      prefix \"Source\".\n",
    "\n",
    "3. Return the results of your analysis as a JSON array of objects, one object per IP address column.\n",
    "\n",
    "  The output should have the following format:\n",
    "      [\n",
    "          { \"Address\": <column_name>, \"Role\": <role|null>, \"RelatedColumns\": [<related_columns>] },\n",
    "          ...\n",
    "      ]\n",
    "\n",
    "4. Do not return code as your answer - return the JSON dictionary as described in item 2.\n",
    "\n",
    "\"\"\"\n",
    "result = analyze_df(win_logons_df, df_prompts[\"prompts\"][\"df_generic_task\"][\"prompt\"], task=find_ips_prompt, sample_rows=1, max_tokens=1000)\n",
    "print(result)"
   ]
  },
  {
   "cell_type": "code",
   "execution_count": 153,
   "metadata": {},
   "outputs": [
    {
     "name": "stdout",
     "output_type": "stream",
     "text": [
      "[\"IpAddress\"]\n"
     ]
    }
   ],
   "source": [
    "find_ips_prompt = \"\"\"\n",
    "\n",
    "Instructions\n",
    "------------\n",
    "Overview: You are asked follow the instructions below\n",
    "to identify which columns of the source dataframe \n",
    "(enclosed in triple backticks) contain IP Addresses and return the\n",
    "answer as a JSON list. Do not return code as your answer - return\n",
    "a JSON dictionary as described in item 2 with the result of\n",
    "*your* analysis of the data.\n",
    "\n",
    "1. Identify which columns in the source dataframe (if any) contain IP addresses.\n",
    "   Use the context above together with both the source dataframe *data values*\n",
    "   and *column names* (headers) to identify which columns (if any) could contain IP Addresses.\n",
    "   - A column name containing an IP address will almost always contain the term \"IP\"\n",
    "   - Common synonyms for IP address are \"IP\", \"IPAddress\", \"IPAddr\", \"IPAddress\"\n",
    "   - IP addresses can be either a version 4 (PV4) dot-delimited string\n",
    "    (e.g. \"52.138.20.1\", \"20.10.10.1\") or a version 6 (IPV6) colon-delimited\n",
    "    string (e.g. \"2001:0db8:85a3:0000:0000:8a2e:0370:7334\",\n",
    "    \"2001:db8:85a3:0:0:8a2e:370:7334\", \"::1\")\n",
    "\n",
    "2. For each IP address column that you find in the source dataframe,\n",
    "   record the following attributes:\n",
    "    - column_name\n",
    "      (string) - the name of the column from the source dataframe\n",
    "      that contains IP address data.\n",
    "      The value of this attribute *must* be the name of a column in the source dataframe\n",
    "      ()\n",
    "      (do not make up values for your answers or add any other columns)\n",
    "    - role\n",
    "      (optional string) - the value is the role (if any) of the IP address column.\n",
    "      IP address column names are commonly prefixed with a role, e.g. \"SourceIP\"\n",
    "      (role = \"Source\"), \"DestIPAddress\" (role = \"Dest\")\n",
    "      (especially where multiple IP address columns are present in the source dataframe)\n",
    "      If there is only one IP address column in the source dataframe, then roles\n",
    "      may not applicable, so set this to null.\n",
    "    - related_columns\n",
    "      (list of strings) - If there are multiple IP columns in the data, other\n",
    "      (non-IP) may be related to these columns if they share the same prefix or suffix as the IP address column.\n",
    "      e.g. \"SourcePort\" column is related to the \"SourceIP\" IP column via the shared\n",
    "      prefix \"Source\".\n",
    "\n",
    "3. Return the results of your analysis as a JSON array of objects, one object per IP address column.\n",
    "\n",
    "  The output should have the following format:\n",
    "      [\n",
    "          { \"Address\": <column_name>, \"Role\": <role|null>, \"RelatedColumns\": [<related_columns>] },\n",
    "          ...\n",
    "      ]\n",
    "\n",
    "4. Do not return code as your answer - return the JSON dictionary as described in item 2.\n",
    "\n",
    "\"\"\"\n",
    "\n",
    "find_ip_cols_prompt = \"\"\"\n",
    "You are asked to identify which columns of the Source dataframe \n",
    "(enclosed in triple backticks) contain IP Addresses.\n",
    "\n",
    "Use your knowledge of common synonyms for IP addresses\n",
    "use the column names (the headers on the first row of \"Source dataframe\")\n",
    "to identify which columns (if any) contain IP Addresses.\n",
    "The data might not contain any IP addresses, so you should return an empty list if that is the case.\n",
    "If you are doubtful whether about a column is IP address column, do not\n",
    "return it as an answer. Do not include columns with similarly\n",
    "spelled common terms such as \"Up\" and \"Id\" unless also they explicitly\n",
    "include the term \"IP\" in the column name.\n",
    "\n",
    "Return the answer as a JSON list. Do not include an explanation of your\n",
    "reasoning or any code as your answer - return a JSON list of unique column names.\n",
    "\n",
    "If you find no IP address columns, return an empty list.\n",
    "\"\"\"\n",
    "\n",
    "# find_ip_cols_prompt = \"\"\"\n",
    "# You are an assistant that is expert in CyberSecurity concepts.\n",
    "#   You are provided with a pandas dataframe (df) with {num_rows} rows and {num_columns} columns.\n",
    "#   This is a sample of the source dataframe (enclosed in triple backticks).\n",
    "\n",
    "#   Source dataframe:\n",
    "#   ```{df_head}```\n",
    "\n",
    "#   When asked about the data, do the following:\n",
    "# \"\"\"\n",
    "result = analyze_df(win_logons_df, df_prompts[\"prompts\"][\"df_generic_task\"][\"prompt\"], task=find_ip_cols_prompt, sample_rows=1, max_tokens=1000)\n",
    "print(result)"
   ]
  },
  {
   "cell_type": "code",
   "execution_count": 145,
   "metadata": {},
   "outputs": [
    {
     "name": "stdout",
     "output_type": "stream",
     "text": [
      "[\"VMIPAddress\", \"PublicIPs\", \"SrcIP\", \"DestIP\", \"AllExtIPs\"]\n"
     ]
    }
   ],
   "source": [
    "result = analyze_df(net_flows_df, df_prompts[\"prompts\"][\"df_generic_task\"][\"prompt\"], task=find_ip_cols_prompt, sample_rows=1, max_tokens=1000)\n",
    "print(result)"
   ]
  },
  {
   "cell_type": "code",
   "execution_count": 141,
   "metadata": {},
   "outputs": [
    {
     "data": {
      "text/html": [
       "<div>\n",
       "<style scoped>\n",
       "    .dataframe tbody tr th:only-of-type {\n",
       "        vertical-align: middle;\n",
       "    }\n",
       "\n",
       "    .dataframe tbody tr th {\n",
       "        vertical-align: top;\n",
       "    }\n",
       "\n",
       "    .dataframe thead th {\n",
       "        text-align: right;\n",
       "    }\n",
       "</style>\n",
       "<table border=\"1\" class=\"dataframe\">\n",
       "  <thead>\n",
       "    <tr style=\"text-align: right;\">\n",
       "      <th></th>\n",
       "      <th>Timestamp</th>\n",
       "      <th>DeviceId</th>\n",
       "      <th>DeviceName</th>\n",
       "      <th>ActionType</th>\n",
       "      <th>FileName</th>\n",
       "      <th>FolderPath</th>\n",
       "      <th>SHA1</th>\n",
       "      <th>SHA256</th>\n",
       "      <th>MD5</th>\n",
       "      <th>FileSize</th>\n",
       "      <th>ProcessVersionInfoCompanyName</th>\n",
       "      <th>ProcessVersionInfoProductName</th>\n",
       "      <th>ProcessVersionInfoProductVersion</th>\n",
       "      <th>ProcessVersionInfoInternalFileName</th>\n",
       "      <th>ProcessVersionInfoOriginalFileName</th>\n",
       "      <th>ProcessVersionInfoFileDescription</th>\n",
       "      <th>ProcessId</th>\n",
       "      <th>ProcessCommandLine</th>\n",
       "      <th>ProcessIntegrityLevel</th>\n",
       "      <th>ProcessTokenElevation</th>\n",
       "      <th>ProcessCreationTime</th>\n",
       "      <th>AccountDomain</th>\n",
       "      <th>AccountName</th>\n",
       "      <th>AccountSid</th>\n",
       "      <th>AccountUpn</th>\n",
       "      <th>...</th>\n",
       "      <th>InitiatingProcessTokenElevation</th>\n",
       "      <th>InitiatingProcessSHA1</th>\n",
       "      <th>InitiatingProcessSHA256</th>\n",
       "      <th>InitiatingProcessMD5</th>\n",
       "      <th>InitiatingProcessFileName</th>\n",
       "      <th>InitiatingProcessFileSize</th>\n",
       "      <th>InitiatingProcessVersionInfoCompanyName</th>\n",
       "      <th>InitiatingProcessVersionInfoProductName</th>\n",
       "      <th>InitiatingProcessVersionInfoProductVersion</th>\n",
       "      <th>InitiatingProcessVersionInfoInternalFileName</th>\n",
       "      <th>InitiatingProcessVersionInfoOriginalFileName</th>\n",
       "      <th>InitiatingProcessVersionInfoFileDescription</th>\n",
       "      <th>InitiatingProcessId</th>\n",
       "      <th>InitiatingProcessCommandLine</th>\n",
       "      <th>InitiatingProcessCreationTime</th>\n",
       "      <th>InitiatingProcessFolderPath</th>\n",
       "      <th>InitiatingProcessParentId</th>\n",
       "      <th>InitiatingProcessParentFileName</th>\n",
       "      <th>InitiatingProcessParentCreationTime</th>\n",
       "      <th>InitiatingProcessSignerType</th>\n",
       "      <th>InitiatingProcessSignatureStatus</th>\n",
       "      <th>ReportId</th>\n",
       "      <th>AppGuardContainerId</th>\n",
       "      <th>AdditionalFields</th>\n",
       "      <th>CreatedProcessParentId</th>\n",
       "    </tr>\n",
       "  </thead>\n",
       "  <tbody>\n",
       "  </tbody>\n",
       "</table>\n",
       "<p>0 rows × 59 columns</p>\n",
       "</div>"
      ],
      "text/plain": [
       "Empty DataFrame\n",
       "Columns: [Timestamp, DeviceId, DeviceName, ActionType, FileName, FolderPath, SHA1, SHA256, MD5, FileSize, ProcessVersionInfoCompanyName, ProcessVersionInfoProductName, ProcessVersionInfoProductVersion, ProcessVersionInfoInternalFileName, ProcessVersionInfoOriginalFileName, ProcessVersionInfoFileDescription, ProcessId, ProcessCommandLine, ProcessIntegrityLevel, ProcessTokenElevation, ProcessCreationTime, AccountDomain, AccountName, AccountSid, AccountUpn, AccountObjectId, LogonId, InitiatingProcessAccountDomain, InitiatingProcessAccountName, InitiatingProcessAccountSid, InitiatingProcessAccountUpn, InitiatingProcessAccountObjectId, InitiatingProcessLogonId, InitiatingProcessIntegrityLevel, InitiatingProcessTokenElevation, InitiatingProcessSHA1, InitiatingProcessSHA256, InitiatingProcessMD5, InitiatingProcessFileName, InitiatingProcessFileSize, InitiatingProcessVersionInfoCompanyName, InitiatingProcessVersionInfoProductName, InitiatingProcessVersionInfoProductVersion, InitiatingProcessVersionInfoInternalFileName, InitiatingProcessVersionInfoOriginalFileName, InitiatingProcessVersionInfoFileDescription, InitiatingProcessId, InitiatingProcessCommandLine, InitiatingProcessCreationTime, InitiatingProcessFolderPath, InitiatingProcessParentId, InitiatingProcessParentFileName, InitiatingProcessParentCreationTime, InitiatingProcessSignerType, InitiatingProcessSignatureStatus, ReportId, AppGuardContainerId, AdditionalFields, CreatedProcessParentId]\n",
       "Index: []\n",
       "\n",
       "[0 rows x 59 columns]"
      ]
     },
     "execution_count": 141,
     "metadata": {},
     "output_type": "execute_result"
    }
   ],
   "source": [
    "mde_proc_pub_df.head(0)"
   ]
  },
  {
   "cell_type": "code",
   "execution_count": 154,
   "metadata": {},
   "outputs": [
    {
     "name": "stdout",
     "output_type": "stream",
     "text": [
      "[\"AccountUpn\", \"InitiatingProcessAccountUpn\"]\n"
     ]
    }
   ],
   "source": [
    "result = analyze_df(mde_proc_pub_df, df_prompts[\"prompts\"][\"df_generic_task\"][\"prompt\"], task=find_ip_cols_prompt, sample_rows=0, max_tokens=1000)\n",
    "print(result)"
   ]
  },
  {
   "cell_type": "code",
   "execution_count": 48,
   "metadata": {},
   "outputs": [
    {
     "name": "stdout",
     "output_type": "stream",
     "text": [
      "[{\"TenantId\":\"52b1ab41-869e-4138-9e40-2a4457f09bf0\",\"Account\":\"NT AUTHORITY\\\\SYSTEM\",\"EventID\":4624,\"TimeGenerated\":1549947394307,\"SourceComputerId\":\"263a788b-6526-4cdc-8ed9-d79402fe4aa0\",\"Computer\":\"MSTICAlertsWin1\",\"SubjectUserName\":\"MSTICAlertsWin1$\",\"SubjectDomainName\":\"WORKGROUP\",\"SubjectUserSid\":\"S-1-5-18\",\"TargetUserName\":\"SYSTEM\",\"TargetDomainName\":\"NT AUTHORITY\",\"TargetUserSid\":\"S-1-5-18\",\"TargetLogonId\":\"0x3e7\",\"LogonProcessName\":\"Advapi  \",\"LogonType\":5,\"AuthenticationPackageName\":\"Negotiate\",\"Status\":\"\",\"IpAddress\":\"-\",\"WorkstationName\":\"-\",\"TimeCreatedUtc\":1549947394307},{\"TenantId\":\"52b1ab41-869e-4138-9e40-2a4457f09bf0\",\"Account\":\"MSTICAlertsWin1\\\\MSTICAdmin\",\"EventID\":4624,\"TimeGenerated\":1549946245340,\"SourceComputerId\":\"263a788b-6526-4cdc-8ed9-d79402fe4aa0\",\"Computer\":\"MSTICAlertsWin1\",\"SubjectUserName\":\"-\",\"SubjectDomainName\":\"-\",\"SubjectUserSid\":\"S-1-0-0\",\"TargetUserName\":\"MSTICAdmin\",\"TargetDomainName\":\"MSTICAlertsWin1\",\"TargetUserSid\":\"S-1-5-21-996632719-2361334927-4038480536-500\",\"TargetLogonId\":\"0xc90e957\",\"LogonProcessName\":\"NtLmSsp \",\"LogonType\":3,\"AuthenticationPackageName\":\"NTLM\",\"Status\":\"\",\"IpAddress\":\"131.107.147.209\",\"WorkstationName\":\"IANHELLE-DEV17\",\"TimeCreatedUtc\":1549946245340},{\"TenantId\":\"52b1ab41-869e-4138-9e40-2a4457f09bf0\",\"Account\":\"MSTICAlertsWin1\\\\MSTICAdmin\",\"EventID\":4624,\"TimeGenerated\":1549946247997,\"SourceComputerId\":\"263a788b-6526-4cdc-8ed9-d79402fe4aa0\",\"Computer\":\"MSTICAlertsWin1\",\"SubjectUserName\":\"-\",\"SubjectDomainName\":\"-\",\"SubjectUserSid\":\"S-1-0-0\",\"TargetUserName\":\"MSTICAdmin\",\"TargetDomainName\":\"MSTICAlertsWin1\",\"TargetUserSid\":\"S-1-5-21-996632719-2361334927-4038480536-500\",\"TargetLogonId\":\"0xc90ea44\",\"LogonProcessName\":\"NtLmSsp \",\"LogonType\":3,\"AuthenticationPackageName\":\"NTLM\",\"Status\":\"\",\"IpAddress\":\"131.107.147.209\",\"WorkstationName\":\"IANHELLE-DEV17\",\"TimeCreatedUtc\":1549946247997},{\"TenantId\":\"52b1ab41-869e-4138-9e40-2a4457f09bf0\",\"Account\":\"MSTICAlertsWin1\\\\MSTICAdmin\",\"EventID\":4624,\"TimeGenerated\":1549946296550,\"SourceComputerId\":\"263a788b-6526-4cdc-8ed9-d79402fe4aa0\",\"Computer\":\"MSTICAlertsWin1\",\"SubjectUserName\":\"-\",\"SubjectDomainName\":\"-\",\"SubjectUserSid\":\"S-1-0-0\",\"TargetUserName\":\"MSTICAdmin\",\"TargetDomainName\":\"MSTICAlertsWin1\",\"TargetUserSid\":\"S-1-5-21-996632719-2361334927-4038480536-500\",\"TargetLogonId\":\"0xc912d62\",\"LogonProcessName\":\"NtLmSsp \",\"LogonType\":3,\"AuthenticationPackageName\":\"NTLM\",\"Status\":\"\",\"IpAddress\":\"131.107.147.209\",\"WorkstationName\":\"IANHELLE-DEV17\",\"TimeCreatedUtc\":1549946296550},{\"TenantId\":\"52b1ab41-869e-4138-9e40-2a4457f09bf0\",\"Account\":\"MSTICAlertsWin1\\\\MSTICAdmin\",\"EventID\":4624,\"TimeGenerated\":1549946301370,\"SourceComputerId\":\"263a788b-6526-4cdc-8ed9-d79402fe4aa0\",\"Computer\":\"MSTICAlertsWin1\",\"SubjectUserName\":\"-\",\"SubjectDomainName\":\"-\",\"SubjectUserSid\":\"S-1-0-0\",\"TargetUserName\":\"MSTICAdmin\",\"TargetDomainName\":\"MSTICAlertsWin1\",\"TargetUserSid\":\"S-1-5-21-996632719-2361334927-4038480536-500\",\"TargetLogonId\":\"0xc913737\",\"LogonProcessName\":\"NtLmSsp \",\"LogonType\":3,\"AuthenticationPackageName\":\"NTLM\",\"Status\":\"\",\"IpAddress\":\"131.107.147.209\",\"WorkstationName\":\"IANHELLE-DEV17\",\"TimeCreatedUtc\":1549946301370}]\n"
     ]
    }
   ],
   "source": [
    "print(win_logons_df.head(5).to_json(orient=\"records\"))"
   ]
  },
  {
   "cell_type": "code",
   "execution_count": 137,
   "metadata": {},
   "outputs": [
    {
     "data": {
      "text/plain": [
       "Index(['Timestamp', 'DeviceId', 'DeviceName', 'ActionType', 'FileName',\n",
       "       'FolderPath', 'SHA1', 'SHA256', 'MD5', 'FileSize',\n",
       "       'ProcessVersionInfoCompanyName', 'ProcessVersionInfoProductName',\n",
       "       'ProcessVersionInfoProductVersion',\n",
       "       'ProcessVersionInfoInternalFileName',\n",
       "       'ProcessVersionInfoOriginalFileName',\n",
       "       'ProcessVersionInfoFileDescription', 'ProcessId', 'ProcessCommandLine',\n",
       "       'ProcessIntegrityLevel', 'ProcessTokenElevation', 'ProcessCreationTime',\n",
       "       'AccountDomain', 'AccountName', 'AccountSid', 'AccountUpn',\n",
       "       'AccountObjectId', 'LogonId', 'InitiatingProcessAccountDomain',\n",
       "       'InitiatingProcessAccountName', 'InitiatingProcessAccountSid',\n",
       "       'InitiatingProcessAccountUpn', 'InitiatingProcessAccountObjectId',\n",
       "       'InitiatingProcessLogonId', 'InitiatingProcessIntegrityLevel',\n",
       "       'InitiatingProcessTokenElevation', 'InitiatingProcessSHA1',\n",
       "       'InitiatingProcessSHA256', 'InitiatingProcessMD5',\n",
       "       'InitiatingProcessFileName', 'InitiatingProcessFileSize',\n",
       "       'InitiatingProcessVersionInfoCompanyName',\n",
       "       'InitiatingProcessVersionInfoProductName',\n",
       "       'InitiatingProcessVersionInfoProductVersion',\n",
       "       'InitiatingProcessVersionInfoInternalFileName',\n",
       "       'InitiatingProcessVersionInfoOriginalFileName',\n",
       "       'InitiatingProcessVersionInfoFileDescription', 'InitiatingProcessId',\n",
       "       'InitiatingProcessCommandLine', 'InitiatingProcessCreationTime',\n",
       "       'InitiatingProcessFolderPath', 'InitiatingProcessParentId',\n",
       "       'InitiatingProcessParentFileName',\n",
       "       'InitiatingProcessParentCreationTime', 'InitiatingProcessSignerType',\n",
       "       'InitiatingProcessSignatureStatus', 'ReportId', 'AppGuardContainerId',\n",
       "       'AdditionalFields', 'CreatedProcessParentId'],\n",
       "      dtype='object')"
      ]
     },
     "execution_count": 137,
     "metadata": {},
     "output_type": "execute_result"
    }
   ],
   "source": [
    "mde_proc_pub_df.columns"
   ]
  },
  {
   "cell_type": "code",
   "execution_count": 134,
   "metadata": {},
   "outputs": [
    {
     "name": "stdout",
     "output_type": "stream",
     "text": [
      "[\"IpAddress\", \"IP\", \"IPAddr\", \"IPAddress\", \"IP_Address\", \"IP_Address_1\", \"IP_Address_2\", \"IP_Address_3\", \"IP_Address_4\", \"IP_Address_5\", \"IP_Address_6\", \"IP_Address_7\", \"IP_Address_8\", \"IP_Address_9\", \"IP_Address_10\", \"IP_Address_11\", \"IP_Address_12\", \"IP_Address_13\", \"IP_Address_14\", \"IP_Address_15\", \"IP_Address_16\", \"IP_Address_17\", \"IP_Address_18\", \"IP_Address_19\", \"IP_Address_20\", \"IP_Address_21\", \"IP_Address_22\", \"IP_Address_23\", \"IP_Address_24\", \"IP_Address_25\", \"IP_Address_26\", \"IP_Address_27\", \"IP_Address_28\", \"IP_Address_29\", \"IP_Address_30\", \"IP_Address_31\", \"IP_Address_32\", \"IP_Address_33\", \"IP_Address_34\", \"IP_Address_35\", \"IP_Address_36\", \"IP_Address_37\", \"IP_Address_38\", \"IP_Address_39\", \"IP_Address_40\", \"IP_Address_41\", \"IP_Address_42\", \"IP_Address_43\", \"IP_Address_44\", \"IP_Address_45\", \"IP_Address_46\", \"IP_Address_47\", \"IP_Address_48\", \"IP_Address_49\", \"IP_Address_50\"]\n"
     ]
    }
   ],
   "source": [
    "result = analyze_df(mde_proc_pub_df, df_prompts[\"prompts\"][\"df_generic_task\"][\"prompt\"], task=find_ip_cols_prompt, sample_rows=2, max_tokens=1000)\n",
    "print(result)"
   ]
  },
  {
   "cell_type": "code",
   "execution_count": 130,
   "metadata": {},
   "outputs": [
    {
     "data": {
      "text/plain": [
       "'{\\n  \"IpAddress\": {},\\n  \"WorkstationName\": {},\\n  \"SourceComputerId\": {},\\n  \"TargetUserName\": {},\\n  \"TargetDomainName\": {},\\n  \"TargetUserSid\": {},\\n  \"TargetLogonId\": {},\\n  \"IpAddress\": {},\\n  \"WorkstationName\": {}\\n}\\n\\nThe columns identified as IP columns are:\\n- IpAddress: The data pattern in the \"Sample data\" matches the examples given in the IP column definition for IP_ADDRESS.\\n- SourceComputerId: The data pattern in the \"Sample data\" matches the examples given in the IP column definition for IP_ADDRESS.\\n- TargetUserName: The data pattern in the \"Sample data\" matches the examples given in the IP column definition for IP_ADDRESS.\\n- TargetDomainName: The data pattern in the \"Sample data\" matches the examples given in the IP column definition for IP_ADDRESS.\\n- TargetUserSid: The data pattern in the \"Sample data\" matches the examples given in the IP column definition for IP_ADDRESS.\\n- TargetLogonId: The data pattern in the \"Sample data\" matches the examples given in the IP column definition for IP_ADDRESS.\\n- WorkstationName: The data pattern in the \"Sample data\" matches the examples given in the IP column definition for IP_ADDRESS.\\n\\nThe reason these columns were identified as IP columns is that their data patterns match the examples given in the IP column definition for IP_ADDRESS.'"
      ]
     },
     "execution_count": 130,
     "metadata": {},
     "output_type": "execute_result"
    }
   ],
   "source": [
    "ip_prompt2 = \"\"\"\n",
    "IP column definitions (enclosed in \"```\" and \"```\")\n",
    "```\n",
    "- type_name: IP_ADDRESS\n",
    "  description: An IP version 4 address\n",
    "  entity: IpAddress\n",
    "  examples:\n",
    "    - 52.138.20.1\n",
    "    - 20.10.10.1\n",
    "- type_name: IPV6_ADDRESS\n",
    "  description: An IP version 6 address\n",
    "  entity: IpAddress\n",
    "  examples:\n",
    "    - 2001:0db8:85a3:0000:0000:8a2e:0370:7334\n",
    "    - 2001:db8:85a3:0:0:8a2e:370:7334\n",
    "```\n",
    "Sample data (enclosed in \"<<<\" and \">>>\")\n",
    "<<<\n",
    "{data}\n",
    ">>>\n",
    "\n",
    "You are asked to analyse the data in \"Sample data\" section above (enclosed in \"<<<\" and \">>>\")\n",
    "and identity which columns contain IP addresses (an IP Column) - as\n",
    "defined in \"IP column definitions\" (enclosed in triple backticks) and return the results\n",
    "as a JSON dictionary.\n",
    "\n",
    "The first line of \"Sample data\" contains the column names\n",
    "and subsequent lines are sample data values for each column.\n",
    "\n",
    "1. Using the definitions given in \"IP Column Definitions\", examine the column names\n",
    "   and column data given in \"Sample data\".\n",
    "   If the data pattern in the \"Sample data\" for a column matches the definition examples,\n",
    "   this is a positive match as an IP column.\n",
    "   \n",
    "2. Create a list of the column names that are positively matched as IP columns in step 1.\n",
    "\n",
    "3. From the subset of columns identified in step 2:\n",
    "  - If the IP column name has a qualifying prefix \n",
    "    (e.g. \"src_ip\" - prefix \"src\", \"DestIpAddress\" - prefix \"Dest\", \"example_ip_addr\" - prefix \"example\") \n",
    "    or a qualifying suffix \n",
    "    (e.g. \"ip_source\" - suffix \"source\" or \"ip_external\" - suffix \"external\", \"ip_address_example\" - suffix \"example\")\n",
    "    then extract the prefix or suffix from the column name\n",
    "    and add it as the value of a \"role\" key in the JSON dictionary entry for that column.\n",
    "  - If it has no prefix or suffix, do not assign the column a \"role\"\n",
    "\n",
    "4. Return a JSON dictionary with the following structure:\n",
    "  {{ <column_name>: {{ \"role\": <role> }}}}\n",
    "  Only include a column name once in the output.\n",
    "  Do not return code as a solution.\n",
    "\n",
    "5. After the dictionary is returned, say, for each column, why it was identified as an IP column.\n",
    "\"\"\"\n",
    "# For each column in the results add a \"reason\" item to the dictionary entry with\n",
    "# and explanation of why the column was identified as an IP column.\n",
    "\n",
    "# Use the following examples to test your solution:\n",
    "# Examples:\n",
    "# ---------\n",
    "# Example 1:\n",
    "#   data:\n",
    "#   \"                              TenantId                     Account  EventID           TimeGenerated                      SourceComputerId\n",
    "#   0  52b1ab41-869e-4138-9e40-2a4457f09bf0         NT AUTHORITY\\SYSTEM     4624 2019-02-12 04:56:34.307  263a788b-6526-4cdc-8ed9-d79402fe4aa0\"\n",
    "#   Expected results:\n",
    "#   {{}}\n",
    "# Example 2:\n",
    "#   data:\n",
    "#   \"                              TenantId           RemoteIP  EventID           TimeGenerated                      SourceComputerId\n",
    "#   0  52b1ab41-869e-4138-9e40-2a4457f09bf0         124.43.5.3     4624 2019-02-12 04:56:34.307  263a788b-6526-4cdc-8ed9-d79402fe4aa0\"\n",
    "#   Expected results:\n",
    "#   {{ \"RemoteIP\": {{ \"role\": \"Remote\" }} }}\n",
    "# Example 3:\n",
    "#   data:\n",
    "#   \"                              TenantId  ListeningAddress  EventID           ListeningPort                      SourceComputerId\n",
    "#   0  52b1ab41-869e-4138-9e40-2a4457f09bf0         127.0.0.1     4624                    8080  263a788b-6526-4cdc-8ed9-d79402fe4aa0\"\n",
    "#   Expected results:\n",
    "#   {{ \"ListeningAddress\": {{ \"role\": \"Listening\", \"related_columns\": [\"ListeningPort\"] }} }}\n",
    "\n",
    "# \"\"\"\n",
    "  #  If there is no matching sample data, only positively identify a column as\n",
    "  #  an IP column if its name contains the substring \"IP\" and the name\n",
    "  #  appears to match the definition for IP addresses given in the IP Column definitions.\n",
    "\n",
    "  # return this list as an intermediate result in the JSON dictionary.\n",
    "  #  Add an explanation for each column of why they were identified as IP columns.\n",
    "\n",
    "\n",
    "  # If there is no matching sample data, tentatively identify the \"Sample data\" column as\n",
    "  #  an IP column only if the substring \"IP\" appears in its name and the name\n",
    "  #  appears to be a synonym of one of the IP Column definitions.\n",
    "  #  Do not include any columns that are not present in the \"Sample data\" column names.\n",
    "\n",
    "from pd_queries import get_completion\n",
    "\n",
    "get_completion(ip_prompt2.format(data=win_logons_df.head(5).to_string()), model=\"gpt-3.5-turbo\", max_tokens=1000, temperature=0)"
   ]
  },
  {
   "cell_type": "code",
   "execution_count": 112,
   "metadata": {},
   "outputs": [
    {
     "name": "stdout",
     "output_type": "stream",
     "text": [
      "\n",
      "IP column definitions (enclosed in \"```\" and \"```\")\n",
      "```\n",
      "- type_name: IP_ADDRESS\n",
      "    description: An IP version 4 address\n",
      "    entity: IpAddress\n",
      "    examples:\n",
      "      - 52.138.20.1\n",
      "      - 20.10.10.1\n",
      "  - type_name: IPV6_ADDRESS\n",
      "    description: An IP V6 address\n",
      "    entity: IpAddress\n",
      "    examples:\n",
      "        - 2001:0db8:85a3:0000:0000:8a2e:0370:7334\n",
      "        - 2001:db8:85a3:0:0:8a2e:370:7334\n",
      "```\n",
      "Sample data (enclosed in \"<<<\" and \">>>\")\n",
      "<<<\n",
      "                               TenantId                     Account  EventID           TimeGenerated                      SourceComputerId         Computer   SubjectUserName SubjectDomainName SubjectUserSid TargetUserName TargetDomainName                                 TargetUserSid TargetLogonId LogonProcessName  LogonType AuthenticationPackageName Status        IpAddress WorkstationName          TimeCreatedUtc\n",
      "0  52b1ab41-869e-4138-9e40-2a4457f09bf0         NT AUTHORITY\\SYSTEM     4624 2019-02-12 04:56:34.307  263a788b-6526-4cdc-8ed9-d79402fe4aa0  MSTICAlertsWin1  MSTICAlertsWin1$         WORKGROUP       S-1-5-18         SYSTEM     NT AUTHORITY                                      S-1-5-18         0x3e7         Advapi            5                 Negotiate                       -               - 2019-02-12 04:56:34.307\n",
      "1  52b1ab41-869e-4138-9e40-2a4457f09bf0  MSTICAlertsWin1\\MSTICAdmin     4624 2019-02-12 04:37:25.340  263a788b-6526-4cdc-8ed9-d79402fe4aa0  MSTICAlertsWin1                 -                 -        S-1-0-0     MSTICAdmin  MSTICAlertsWin1  S-1-5-21-996632719-2361334927-4038480536-500     0xc90e957         NtLmSsp           3                      NTLM         131.107.147.209  IANHELLE-DEV17 2019-02-12 04:37:25.340\n",
      "2  52b1ab41-869e-4138-9e40-2a4457f09bf0  MSTICAlertsWin1\\MSTICAdmin     4624 2019-02-12 04:37:27.997  263a788b-6526-4cdc-8ed9-d79402fe4aa0  MSTICAlertsWin1                 -                 -        S-1-0-0     MSTICAdmin  MSTICAlertsWin1  S-1-5-21-996632719-2361334927-4038480536-500     0xc90ea44         NtLmSsp           3                      NTLM         131.107.147.209  IANHELLE-DEV17 2019-02-12 04:37:27.997\n",
      "3  52b1ab41-869e-4138-9e40-2a4457f09bf0  MSTICAlertsWin1\\MSTICAdmin     4624 2019-02-12 04:38:16.550  263a788b-6526-4cdc-8ed9-d79402fe4aa0  MSTICAlertsWin1                 -                 -        S-1-0-0     MSTICAdmin  MSTICAlertsWin1  S-1-5-21-996632719-2361334927-4038480536-500     0xc912d62         NtLmSsp           3                      NTLM         131.107.147.209  IANHELLE-DEV17 2019-02-12 04:38:16.550\n",
      "4  52b1ab41-869e-4138-9e40-2a4457f09bf0  MSTICAlertsWin1\\MSTICAdmin     4624 2019-02-12 04:38:21.370  263a788b-6526-4cdc-8ed9-d79402fe4aa0  MSTICAlertsWin1                 -                 -        S-1-0-0     MSTICAdmin  MSTICAlertsWin1  S-1-5-21-996632719-2361334927-4038480536-500     0xc913737         NtLmSsp           3                      NTLM         131.107.147.209  IANHELLE-DEV17 2019-02-12 04:38:21.370\n",
      ">>>\n",
      "\n",
      "You are asked to analyse the data in \"Sample data\"\n",
      "and identity which columns contain IP addresses - as\n",
      "defined in \"IP column definitions\" and return the results\n",
      "as a JSON dictionary.\n",
      "\n",
      "The first line of \"Sample data\" contains the column names\n",
      "and subsequent lines are sample data values for each column.\n",
      "\n",
      "1. Using the the examples in \"IP Column Definitions\", examine the column names\n",
      "   and column data given in \"Sample data\".\n",
      "   a) If the data pattern in the samples for a column matches the definition examples,\n",
      "   this is a positive match.\n",
      "   b) If there is no matching sample data positively identify a Sample data column as\n",
      "   an IP column if its name contains the substring \"IP\" and the name\n",
      "   appears to match the definition for IP addresses given in the IP Column definitions.\n",
      "2. Create a list of the column names that are positively identified as IP columns in step 1.\n",
      "   return this list as an intermediate result in the JSON dictionary.\n",
      "   Add an explanation for each column of why they were identified as IP columns.\n",
      "3. From the subset of columns identified in step 2:\n",
      "  if the IP column name has a qualifying prefix \n",
      "  (e.g. \"src_ip\" - prefix \"src\", \"DestIpAddress\" - prefix \"Dest\", \"example_ip_addr\" - prefix \"example\") \n",
      "  or a qualifying suffix \n",
      "  (e.g. \"ip_source\" - suffix \"source\" or \"ip_external\" - suffix \"external\", \"ip_address_example\" - suffix \"example\")\n",
      "  then extract the prefix or suffix from the column name\n",
      "  and add it as the value of a \"role\" key in\n",
      "  the JSON dictionary entry for the column.\n",
      "  If it has no prefix or suffix, do not assign the column a \"role\"\n",
      "\n",
      "\n",
      "\n"
     ]
    }
   ],
   "source": [
    "print(ip_prompt2.format(data=win_logons_df.head(5).to_string()))"
   ]
  },
  {
   "cell_type": "code",
   "execution_count": 129,
   "metadata": {},
   "outputs": [
    {
     "name": "stdout",
     "output_type": "stream",
     "text": [
      "{\n",
      "  \"VMIPAddress\": {},\n",
      "  \"PublicIPs\": {},\n",
      "  \"SrcIP\": {},\n",
      "  \"DestIP\": {},\n",
      "  \"AllExtIPs\": {}\n",
      "}\n"
     ]
    }
   ],
   "source": [
    "net_flows_df = pd.read_csv(\"e:/src/msticpy/tests/testdata/az_net_flows.csv\")\n",
    "result = get_completion(ip_prompt2.format(data=net_flows_df.head(5)), model=\"gpt-3.5-turbo\", max_tokens=1000, temperature=0)\n",
    "print(result)"
   ]
  },
  {
   "cell_type": "code",
   "execution_count": 135,
   "metadata": {},
   "outputs": [
    {
     "data": {
      "text/plain": [
       "Unnamed: 0                                              881\n",
       "TenantId               52b1ab41-869e-4138-9e40-2a4457f09bf0\n",
       "TimeGenerated                       2019-02-12 14:22:40.697\n",
       "FlowStartTime                       2019-02-12 13:00:07.000\n",
       "FlowEndTime                         2019-02-12 13:45:08.000\n",
       "FlowIntervalEndTime                 2019-02-12 14:00:00.000\n",
       "FlowType                                        AzurePublic\n",
       "ResourceGroup                         asihuntomsworkspacerg\n",
       "VMName                                      msticalertswin1\n",
       "VMIPAddress                                        10.0.3.5\n",
       "PublicIPs                                  ['65.55.44.109']\n",
       "SrcIP                                                   NaN\n",
       "DestIP                                                  NaN\n",
       "L4Protocol                                                T\n",
       "L7Protocol                                            https\n",
       "DestPort                                              443.0\n",
       "FlowDirection                                             O\n",
       "AllowedOutFlows                                         4.0\n",
       "AllowedInFlows                                          0.0\n",
       "DeniedInFlows                                           0.0\n",
       "DeniedOutFlows                                          0.0\n",
       "RemoteRegion                                        eastus2\n",
       "VMRegion                                             eastus\n",
       "AllExtIPs                                      65.55.44.109\n",
       "TotalAllowedFlows                                       4.0\n",
       "Name: 0, dtype: object"
      ]
     },
     "execution_count": 135,
     "metadata": {},
     "output_type": "execute_result"
    }
   ],
   "source": [
    "net_flows_df.iloc[0]"
   ]
  }
 ],
 "metadata": {
  "kernelspec": {
   "display_name": "mp-gpt",
   "language": "python",
   "name": "python3"
  },
  "language_info": {
   "codemirror_mode": {
    "name": "ipython",
    "version": 3
   },
   "file_extension": ".py",
   "mimetype": "text/x-python",
   "name": "python",
   "nbconvert_exporter": "python",
   "pygments_lexer": "ipython3",
   "version": "3.11.3"
  },
  "orig_nbformat": 4
 },
 "nbformat": 4,
 "nbformat_minor": 2
}
